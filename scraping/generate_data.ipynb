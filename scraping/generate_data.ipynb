{
 "cells": [
  {
   "cell_type": "code",
   "execution_count": 15,
   "metadata": {},
   "outputs": [],
   "source": [
    "import pandas as pd\n",
    "import numpy as np\n",
    "from bs4 import BeautifulSoup\n",
    "import bs4 as bs4\n",
    "from urllib.parse import urlparse\n",
    "import requests\n",
    "from collections import Counter\n",
    "import pandas as pd\n",
    "import re"
   ]
  },
  {
   "cell_type": "code",
   "execution_count": 16,
   "metadata": {},
   "outputs": [
    {
     "data": {
      "text/html": [
       "<div>\n",
       "<style scoped>\n",
       "    .dataframe tbody tr th:only-of-type {\n",
       "        vertical-align: middle;\n",
       "    }\n",
       "\n",
       "    .dataframe tbody tr th {\n",
       "        vertical-align: top;\n",
       "    }\n",
       "\n",
       "    .dataframe thead th {\n",
       "        text-align: right;\n",
       "    }\n",
       "</style>\n",
       "<table border=\"1\" class=\"dataframe\">\n",
       "  <thead>\n",
       "    <tr style=\"text-align: right;\">\n",
       "      <th></th>\n",
       "      <th>website_url</th>\n",
       "      <th>cleaned_website_text</th>\n",
       "      <th>Category</th>\n",
       "    </tr>\n",
       "  </thead>\n",
       "  <tbody>\n",
       "    <tr>\n",
       "      <th>0</th>\n",
       "      <td>https://www.fubo.tv/lp/StreamTV/?irad=343747&amp;i...</td>\n",
       "      <td>stream live tv sports fubotv free trial sport ...</td>\n",
       "      <td>Streaming Services</td>\n",
       "    </tr>\n",
       "    <tr>\n",
       "      <th>1</th>\n",
       "      <td>https://www.hulu.com/</td>\n",
       "      <td>stream tv movie live online hulu watch tv show...</td>\n",
       "      <td>Streaming Services</td>\n",
       "    </tr>\n",
       "    <tr>\n",
       "      <th>2</th>\n",
       "      <td>https://tv.youtube.com/</td>\n",
       "      <td>youtube tv watch dvr live sports shows news st...</td>\n",
       "      <td>Streaming Services</td>\n",
       "    </tr>\n",
       "    <tr>\n",
       "      <th>3</th>\n",
       "      <td>https://www.attwatchtv.com/</td>\n",
       "      <td>watchtv stream channel live tv want watchtv ex...</td>\n",
       "      <td>Streaming Services</td>\n",
       "    </tr>\n",
       "    <tr>\n",
       "      <th>4</th>\n",
       "      <td>https://www.klowdtv.com/</td>\n",
       "      <td>live tv streaming klowdtv klowdtv provide live...</td>\n",
       "      <td>Streaming Services</td>\n",
       "    </tr>\n",
       "    <tr>\n",
       "      <th>...</th>\n",
       "      <td>...</td>\n",
       "      <td>...</td>\n",
       "      <td>...</td>\n",
       "    </tr>\n",
       "    <tr>\n",
       "      <th>1089</th>\n",
       "      <td>https://www.slack.com</td>\n",
       "      <td>slack is your productivity platform slackslack...</td>\n",
       "      <td>Social Networking and Messaging</td>\n",
       "    </tr>\n",
       "    <tr>\n",
       "      <th>1090</th>\n",
       "      <td>https://www.discord.com</td>\n",
       "      <td>discord your place to talk and hang outdiscord...</td>\n",
       "      <td>Social Networking and Messaging</td>\n",
       "    </tr>\n",
       "    <tr>\n",
       "      <th>1091</th>\n",
       "      <td>https://www.dribbble.com</td>\n",
       "      <td>dribbble discover the worlds top designers cre...</td>\n",
       "      <td>Social Networking and Messaging</td>\n",
       "    </tr>\n",
       "    <tr>\n",
       "      <th>1092</th>\n",
       "      <td>https://www.producthunt.com</td>\n",
       "      <td>product hunt the best new products in tech pr...</td>\n",
       "      <td>Social Networking and Messaging</td>\n",
       "    </tr>\n",
       "    <tr>\n",
       "      <th>1093</th>\n",
       "      <td>https://www.goodreads.com</td>\n",
       "      <td>goodreads meet your next favorite bookfind and...</td>\n",
       "      <td>Social Networking and Messaging</td>\n",
       "    </tr>\n",
       "  </tbody>\n",
       "</table>\n",
       "<p>1094 rows × 3 columns</p>\n",
       "</div>"
      ],
      "text/plain": [
       "                                            website_url  \\\n",
       "0     https://www.fubo.tv/lp/StreamTV/?irad=343747&i...   \n",
       "1                                 https://www.hulu.com/   \n",
       "2                               https://tv.youtube.com/   \n",
       "3                           https://www.attwatchtv.com/   \n",
       "4                              https://www.klowdtv.com/   \n",
       "...                                                 ...   \n",
       "1089                              https://www.slack.com   \n",
       "1090                            https://www.discord.com   \n",
       "1091                           https://www.dribbble.com   \n",
       "1092                        https://www.producthunt.com   \n",
       "1093                          https://www.goodreads.com   \n",
       "\n",
       "                                   cleaned_website_text  \\\n",
       "0     stream live tv sports fubotv free trial sport ...   \n",
       "1     stream tv movie live online hulu watch tv show...   \n",
       "2     youtube tv watch dvr live sports shows news st...   \n",
       "3     watchtv stream channel live tv want watchtv ex...   \n",
       "4     live tv streaming klowdtv klowdtv provide live...   \n",
       "...                                                 ...   \n",
       "1089  slack is your productivity platform slackslack...   \n",
       "1090  discord your place to talk and hang outdiscord...   \n",
       "1091  dribbble discover the worlds top designers cre...   \n",
       "1092   product hunt the best new products in tech pr...   \n",
       "1093  goodreads meet your next favorite bookfind and...   \n",
       "\n",
       "                             Category  \n",
       "0                  Streaming Services  \n",
       "1                  Streaming Services  \n",
       "2                  Streaming Services  \n",
       "3                  Streaming Services  \n",
       "4                  Streaming Services  \n",
       "...                               ...  \n",
       "1089  Social Networking and Messaging  \n",
       "1090  Social Networking and Messaging  \n",
       "1091  Social Networking and Messaging  \n",
       "1092  Social Networking and Messaging  \n",
       "1093  Social Networking and Messaging  \n",
       "\n",
       "[1094 rows x 3 columns]"
      ]
     },
     "execution_count": 16,
     "metadata": {},
     "output_type": "execute_result"
    }
   ],
   "source": [
    "df = pd.read_csv('../website_classification.csv')\n",
    "df"
   ]
  },
  {
   "cell_type": "code",
   "execution_count": 17,
   "metadata": {},
   "outputs": [],
   "source": [
    "class ScrapTool:\n",
    "    def visit_url(self, website_url):\n",
    "        '''\n",
    "        Visit URL. Download the Content. Initialize the BeautifulSoup object. Call parsing methods. Return Series object.\n",
    "        '''\n",
    "        content = requests.get(website_url, timeout=60).content\n",
    "        soup = BeautifulSoup(content, 'lxml')\n",
    "        result = {\n",
    "            \"website_url\": website_url,\n",
    "            \"website_name\": self.get_website_name(website_url),\n",
    "            \"website_text\": self.get_html_title_tag(soup) + self.get_html_meta_tags(soup) + self.get_html_heading_tags(soup) +\n",
    "                             self.get_text_content(soup)\n",
    "        }\n",
    "\n",
    "        # Convert to Series object and return\n",
    "        return pd.Series(result)\n",
    "\n",
    "    def get_website_name(self, website_url):\n",
    "        '''\n",
    "        Example: returns \"google\" from \"www.google.com\"\n",
    "        '''\n",
    "        return \"\".join(urlparse(website_url).netloc.split(\".\")[-2])\n",
    "\n",
    "    def get_html_title_tag(self, soup):\n",
    "        '''Return the text content of <title> tag from a webpage'''\n",
    "        return '. '.join(soup.title.contents)\n",
    "\n",
    "    def get_html_meta_tags(self, soup):\n",
    "        '''Returns the text content of <meta> tags related to keywords and description from a webpage'''\n",
    "        tags = soup.find_all(lambda tag: (tag.name == \"meta\") & (tag.has_attr('name') & (tag.has_attr('content'))))\n",
    "        content = [str(tag[\"content\"]) for tag in tags if tag[\"name\"] in ['keywords', 'description']]\n",
    "        return ' '.join(content)\n",
    "\n",
    "    def get_html_heading_tags(self, soup):\n",
    "        '''returns the text content of heading tags. The assumption is that headings might contain relatively important text.'''\n",
    "        tags = soup.find_all([\"h1\", \"h2\", \"h3\", \"h4\", \"h5\", \"h6\"])\n",
    "        content = [\" \".join(tag.stripped_strings) for tag in tags]\n",
    "        return ' '.join(content)\n",
    "\n",
    "    def get_text_content(self, soup):\n",
    "        '''returns the text content of the whole page with some exception to tags. See tags_to_ignore.'''\n",
    "        tags_to_ignore = ['style', 'script', 'head', 'title', 'meta', '[document]', \"h1\", \"h2\", \"h3\", \"h4\", \"h5\", \"h6\", \"noscript\"]\n",
    "        tags = soup.find_all(text=True)\n",
    "        result = []\n",
    "        for tag in tags:\n",
    "            stripped_tag = tag.strip()\n",
    "            if tag.parent.name not in tags_to_ignore \\\n",
    "                    and isinstance(tag, bs4.element.Comment) == False \\\n",
    "                    and not stripped_tag.isnumeric() \\\n",
    "                    and len(stripped_tag) > 0:\n",
    "                result.append(stripped_tag)\n",
    "        return ' '.join(result)"
   ]
  },
  {
   "cell_type": "code",
   "execution_count": 18,
   "metadata": {},
   "outputs": [],
   "source": [
    "def cleaning_text(text):\n",
    "    text = text.lower()\n",
    "    text = text.replace('\\n',' ')\n",
    "    text = text.replace('\\t',' ')\n",
    "    text = text.replace('\\r',' ')\n",
    "    text = re.sub(r'[^\\w\\s]', '', text)\n",
    "    text = re.sub(r'\\d+', '', text)\n",
    "    text = re.sub(r' +',' ',text)\n",
    "    return text"
   ]
  },
  {
   "cell_type": "code",
   "execution_count": 19,
   "metadata": {},
   "outputs": [],
   "source": [
    "def content_generation(website):\n",
    "    scrapTool = ScrapTool()\n",
    "    try:\n",
    "        web = dict(scrapTool.visit_url(website))\n",
    "        text = cleaning_text(web['website_text'])\n",
    "        return text\n",
    "    except:\n",
    "        print('Error: ',website)\n",
    "        return None"
   ]
  },
  {
   "cell_type": "code",
   "execution_count": 9,
   "metadata": {},
   "outputs": [
    {
     "name": "stdout",
     "output_type": "stream",
     "text": [
      " forbidden forbiddennginx\n"
     ]
    },
    {
     "name": "stderr",
     "output_type": "stream",
     "text": [
      "C:\\Users\\shrey\\AppData\\Local\\Temp/ipykernel_5440/2194072710.py:43: DeprecationWarning: The 'text' argument to find()-type methods is deprecated. Use 'string' instead.\n",
      "  tags = soup.find_all(text=True)\n"
     ]
    }
   ],
   "source": [
    "websites = [\n",
    "    \"https://smartoptions.io/\"\n",
    "]\n",
    "\n",
    "\n",
    "for website in websites:\n",
    "    text = content_generation(website)\n",
    "    if text is not None:\n",
    "        print(text)\n",
    "        # web = [website,text,'Social Networking and Messaging']\n",
    "        # df.loc[len(df)] = web"
   ]
  },
  {
   "cell_type": "code",
   "execution_count": 20,
   "metadata": {},
   "outputs": [
    {
     "data": {
      "text/plain": [
       "Computers and Technology           258\n",
       "Social Networking and Messaging    114\n",
       "Business/Corporate                 107\n",
       "Streaming Services                 103\n",
       "E-Commerce                         101\n",
       "Sports                             100\n",
       "Games                               98\n",
       "News                                93\n",
       "Law and Government                  83\n",
       "Adult                               21\n",
       "Forums                              16\n",
       "Name: Category, dtype: int64"
      ]
     },
     "execution_count": 20,
     "metadata": {},
     "output_type": "execute_result"
    }
   ],
   "source": [
    "df['Category'].value_counts()"
   ]
  },
  {
   "cell_type": "code",
   "execution_count": 14,
   "metadata": {},
   "outputs": [],
   "source": [
    "df.reset_index(drop=True,inplace=True)\n",
    "df.to_csv(\"website_classification.csv\",index=False)"
   ]
  },
  {
   "cell_type": "code",
   "execution_count": 13,
   "metadata": {},
   "outputs": [],
   "source": [
    "df.drop(886,inplace=True)"
   ]
  },
  {
   "cell_type": "code",
   "execution_count": 8,
   "metadata": {},
   "outputs": [
    {
     "data": {
      "text/html": [
       "<div>\n",
       "<style scoped>\n",
       "    .dataframe tbody tr th:only-of-type {\n",
       "        vertical-align: middle;\n",
       "    }\n",
       "\n",
       "    .dataframe tbody tr th {\n",
       "        vertical-align: top;\n",
       "    }\n",
       "\n",
       "    .dataframe thead th {\n",
       "        text-align: right;\n",
       "    }\n",
       "</style>\n",
       "<table border=\"1\" class=\"dataframe\">\n",
       "  <thead>\n",
       "    <tr style=\"text-align: right;\">\n",
       "      <th></th>\n",
       "      <th>website_url</th>\n",
       "      <th>cleaned_website_text</th>\n",
       "      <th>Category</th>\n",
       "    </tr>\n",
       "  </thead>\n",
       "  <tbody>\n",
       "    <tr>\n",
       "      <th>886</th>\n",
       "      <td>https://smartoptions.io/</td>\n",
       "      <td>forbidden forbiddennginx</td>\n",
       "      <td>Computers and Technology</td>\n",
       "    </tr>\n",
       "  </tbody>\n",
       "</table>\n",
       "</div>"
      ],
      "text/plain": [
       "                  website_url       cleaned_website_text  \\\n",
       "886  https://smartoptions.io/   forbidden forbiddennginx   \n",
       "\n",
       "                     Category  \n",
       "886  Computers and Technology  "
      ]
     },
     "execution_count": 8,
     "metadata": {},
     "output_type": "execute_result"
    }
   ],
   "source": []
  },
  {
   "cell_type": "code",
   "execution_count": null,
   "metadata": {},
   "outputs": [],
   "source": []
  }
 ],
 "metadata": {
  "kernelspec": {
   "display_name": "Python 3",
   "language": "python",
   "name": "python3"
  },
  "language_info": {
   "codemirror_mode": {
    "name": "ipython",
    "version": 3
   },
   "file_extension": ".py",
   "mimetype": "text/x-python",
   "name": "python",
   "nbconvert_exporter": "python",
   "pygments_lexer": "ipython3",
   "version": "3.9.7"
  },
  "orig_nbformat": 4
 },
 "nbformat": 4,
 "nbformat_minor": 2
}
