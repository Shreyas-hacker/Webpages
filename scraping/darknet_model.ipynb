{
 "cells": [
  {
   "cell_type": "code",
   "execution_count": 1,
   "metadata": {},
   "outputs": [
    {
     "data": {
      "text/html": [
       "<div>\n",
       "<style scoped>\n",
       "    .dataframe tbody tr th:only-of-type {\n",
       "        vertical-align: middle;\n",
       "    }\n",
       "\n",
       "    .dataframe tbody tr th {\n",
       "        vertical-align: top;\n",
       "    }\n",
       "\n",
       "    .dataframe thead th {\n",
       "        text-align: right;\n",
       "    }\n",
       "</style>\n",
       "<table border=\"1\" class=\"dataframe\">\n",
       "  <thead>\n",
       "    <tr style=\"text-align: right;\">\n",
       "      <th></th>\n",
       "      <th>url</th>\n",
       "      <th>body_stripped</th>\n",
       "    </tr>\n",
       "  </thead>\n",
       "  <tbody>\n",
       "    <tr>\n",
       "      <th>0</th>\n",
       "      <td>http://3h42ncbglpxvc6e5.onion/disclaimer</td>\n",
       "      <td>\\n Apple Market - Stolen &amp; Carded Merchandise...</td>\n",
       "    </tr>\n",
       "    <tr>\n",
       "      <th>1</th>\n",
       "      <td>http://naturetome2v7rpsvy4ba3cve35y6llpfcpomvj...</td>\n",
       "      <td>\\n Talk: Gout — NatureVault \\n Talk: Gout \\n ...</td>\n",
       "    </tr>\n",
       "    <tr>\n",
       "      <th>2</th>\n",
       "      <td>http://olymprc54rbqyfv3ddr2jwdqzvrayed7zg4d7iz...</td>\n",
       "      <td>\\n Members who liked message #109319 | OlympR...</td>\n",
       "    </tr>\n",
       "    <tr>\n",
       "      <th>3</th>\n",
       "      <td>http://zqktlwiuavvvqqt4ybvgvi7tyo4hjl5xgfuvpdf...</td>\n",
       "      <td>\\n All public logs - The Hidden Wiki \\n Help ...</td>\n",
       "    </tr>\n",
       "    <tr>\n",
       "      <th>4</th>\n",
       "      <td>http://6tn2ejdphoveywwt6pc2sbaez62bytq4vr4xd2f...</td>\n",
       "      <td>\\n /b/DNMAdsDenmark | Breaking Bad \\n Market ...</td>\n",
       "    </tr>\n",
       "  </tbody>\n",
       "</table>\n",
       "</div>"
      ],
      "text/plain": [
       "                                                 url  \\\n",
       "0           http://3h42ncbglpxvc6e5.onion/disclaimer   \n",
       "1  http://naturetome2v7rpsvy4ba3cve35y6llpfcpomvj...   \n",
       "2  http://olymprc54rbqyfv3ddr2jwdqzvrayed7zg4d7iz...   \n",
       "3  http://zqktlwiuavvvqqt4ybvgvi7tyo4hjl5xgfuvpdf...   \n",
       "4  http://6tn2ejdphoveywwt6pc2sbaez62bytq4vr4xd2f...   \n",
       "\n",
       "                                       body_stripped  \n",
       "0   \\n Apple Market - Stolen & Carded Merchandise...  \n",
       "1   \\n Talk: Gout — NatureVault \\n Talk: Gout \\n ...  \n",
       "2   \\n Members who liked message #109319 | OlympR...  \n",
       "3   \\n All public logs - The Hidden Wiki \\n Help ...  \n",
       "4   \\n /b/DNMAdsDenmark | Breaking Bad \\n Market ...  "
      ]
     },
     "execution_count": 1,
     "metadata": {},
     "output_type": "execute_result"
    }
   ],
   "source": [
    "import pandas as pd\n",
    "# importing dataset over to pandas dataframe\n",
    "darknet_df = pd.read_csv('../darknet.csv', encoding='utf-8')\n",
    "darknet_df.head()"
   ]
  },
  {
   "cell_type": "code",
   "execution_count": 2,
   "metadata": {},
   "outputs": [
    {
     "name": "stdout",
     "output_type": "stream",
     "text": [
      "<class 'pandas.core.frame.DataFrame'>\n",
      "RangeIndex: 99952 entries, 0 to 99951\n",
      "Data columns (total 2 columns):\n",
      " #   Column         Non-Null Count  Dtype \n",
      "---  ------         --------------  ----- \n",
      " 0   url            99952 non-null  object\n",
      " 1   body_stripped  99946 non-null  object\n",
      "dtypes: object(2)\n",
      "memory usage: 1.5+ MB\n"
     ]
    }
   ],
   "source": [
    "darknet_df.info()"
   ]
  },
  {
   "cell_type": "code",
   "execution_count": 3,
   "metadata": {},
   "outputs": [
    {
     "data": {
      "text/plain": [
       "5281     http://hyxme2aydjhcgzfiuggsb42eofvx6icyviue3vl...\n",
       "26463    http://xdhbqaloeg5bid3tzjpllhnxisdguz34xtoc7qe...\n",
       "64586    http://omegalock5zxwbhswbisc42o2q2i54vdulyvtqq...\n",
       "65617    http://deepirbpdlnqd5xk36iptgz6lu4clqwzgztc4z5...\n",
       "70738    http://xdhbqaloeg5bid3tzjpllhnxisdguz34xtoc7qe...\n",
       "78780    http://xdhbqaloeg5bid3tzjpllhnxisdguz34xtoc7qe...\n",
       "Name: url, dtype: object"
      ]
     },
     "execution_count": 3,
     "metadata": {},
     "output_type": "execute_result"
    }
   ],
   "source": [
    "darknet_df[darknet_df['body_stripped'].isnull()]['url']"
   ]
  },
  {
   "cell_type": "code",
   "execution_count": 4,
   "metadata": {},
   "outputs": [],
   "source": [
    "# finding urls with no body_stipped (content of website) and adding them\n",
    "empty_content = darknet_df[darknet_df['body_stripped'].isnull()]['url'].to_list()"
   ]
  },
  {
   "cell_type": "code",
   "execution_count": 5,
   "metadata": {},
   "outputs": [
    {
     "name": "stdout",
     "output_type": "stream",
     "text": [
      "Getting... http://hyxme2aydjhcgzfiuggsb42eofvx6icyviue3vl7ogo6rizqn527rpad.onion/files/\n",
      "successful\n",
      "Getting... http://xdhbqaloeg5bid3tzjpllhnxisdguz34xtoc7qegnmh3essuesfdyqid.onion/shrineadmin/sacredground/raw/2a787b08773bc6900419487abcb595ffb6370009/assets/favicon.svg\n",
      "successful\n",
      "Getting... http://omegalock5zxwbhswbisc42o2q2i54vdulyvtqqbudqousisjgc7j7yd.onion/downloads/5/RLC_part_1/PARTS_DEPT/New%20Text%20Document.txt\n",
      "successful\n",
      "Getting... http://deepirbpdlnqd5xk36iptgz6lu4clqwzgztc4z5vwu6v6tqcbwellnad.onion/config.php\n",
      "successful\n",
      "Getting... http://xdhbqaloeg5bid3tzjpllhnxisdguz34xtoc7qegnmh3essuesfdyqid.onion/shrineadmin/sacredground/raw/405560fd891dd890b3db600e1b5e6fe433d502af/assets/logo-src/Roboto.Sacred.svg\n",
      "successful\n",
      "Getting... http://xdhbqaloeg5bid3tzjpllhnxisdguz34xtoc7qegnmh3essuesfdyqid.onion/shrineadmin/sacredground/raw/6ddc5c8e8bd5ed62dd6523dab093c7626157391c/assets/logo-src/NotoSans300.multiocular-o.svg\n",
      "successful\n",
      "0\n"
     ]
    }
   ],
   "source": [
    "from darkwebScrapper import Scraper\n",
    "\n",
    "error_url = []\n",
    "for url in empty_content:\n",
    "    try:\n",
    "        body = Scraper(url,dark_web=True)\n",
    "        print(\"successful\")\n",
    "        #darknet_df.loc[darknet_df['url'] == url, 'body_stripped'] = body\n",
    "    except Exception as e:\n",
    "        print(\"Error: \", url)\n",
    "        print(e)\n",
    "        error_url.append(url)\n",
    "\n",
    "print(len(error_url))"
   ]
  },
  {
   "cell_type": "code",
   "execution_count": 11,
   "metadata": {},
   "outputs": [
    {
     "name": "stdout",
     "output_type": "stream",
     "text": [
      "<class 'pandas.core.frame.DataFrame'>\n",
      "RangeIndex: 100000 entries, 0 to 99999\n",
      "Data columns (total 2 columns):\n",
      " #   Column         Non-Null Count   Dtype \n",
      "---  ------         --------------   ----- \n",
      " 0   url            100000 non-null  object\n",
      " 1   body_stripped  99952 non-null   object\n",
      "dtypes: object(2)\n",
      "memory usage: 1.5+ MB\n"
     ]
    }
   ],
   "source": [
    "darknet_df.info()"
   ]
  },
  {
   "cell_type": "code",
   "execution_count": 13,
   "metadata": {},
   "outputs": [
    {
     "name": "stdout",
     "output_type": "stream",
     "text": [
      "<class 'pandas.core.frame.DataFrame'>\n",
      "Int64Index: 99952 entries, 0 to 99999\n",
      "Data columns (total 2 columns):\n",
      " #   Column         Non-Null Count  Dtype \n",
      "---  ------         --------------  ----- \n",
      " 0   url            99952 non-null  object\n",
      " 1   body_stripped  99952 non-null  object\n",
      "dtypes: object(2)\n",
      "memory usage: 2.3+ MB\n"
     ]
    }
   ],
   "source": [
    "#drop the error urls from the dataframe\n",
    "darknet_df = darknet_df[~darknet_df['url'].isin(error_url)]\n",
    "darknet_df.info()"
   ]
  },
  {
   "cell_type": "code",
   "execution_count": 14,
   "metadata": {},
   "outputs": [],
   "source": [
    "#save darknet dataframe to csv\n",
    "darknet_df.to_csv('../darknet.csv', index=False)"
   ]
  }
 ],
 "metadata": {
  "kernelspec": {
   "display_name": "Python 3",
   "language": "python",
   "name": "python3"
  },
  "language_info": {
   "codemirror_mode": {
    "name": "ipython",
    "version": 3
   },
   "file_extension": ".py",
   "mimetype": "text/x-python",
   "name": "python",
   "nbconvert_exporter": "python",
   "pygments_lexer": "ipython3",
   "version": "3.9.7"
  }
 },
 "nbformat": 4,
 "nbformat_minor": 2
}
