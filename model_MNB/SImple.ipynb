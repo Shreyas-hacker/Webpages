{
 "cells": [
  {
   "cell_type": "code",
   "execution_count": 1,
   "metadata": {},
   "outputs": [],
   "source": [
    "import pandas as pd\n",
    "import numpy as np\n",
    "import matplotlib.pyplot as plt\n",
    "import nltk\n",
    "import sklearn.metrics as sm\n",
    "import seaborn as sns\n",
    "import re\n",
    "import sklearn as sk\n",
    "from sklearn.model_selection import train_test_split\n",
    "from sklearn.metrics import confusion_matrix\n",
    "from sklearn.metrics import classification_report\n",
    "from sklearn.metrics import accuracy_score\n",
    "from sklearn.preprocessing import LabelEncoder"
   ]
  },
  {
   "cell_type": "code",
   "execution_count": 2,
   "metadata": {},
   "outputs": [
    {
     "data": {
      "text/html": [
       "<div>\n",
       "<style scoped>\n",
       "    .dataframe tbody tr th:only-of-type {\n",
       "        vertical-align: middle;\n",
       "    }\n",
       "\n",
       "    .dataframe tbody tr th {\n",
       "        vertical-align: top;\n",
       "    }\n",
       "\n",
       "    .dataframe thead th {\n",
       "        text-align: right;\n",
       "    }\n",
       "</style>\n",
       "<table border=\"1\" class=\"dataframe\">\n",
       "  <thead>\n",
       "    <tr style=\"text-align: right;\">\n",
       "      <th></th>\n",
       "      <th>website_url</th>\n",
       "      <th>cleaned_website_text</th>\n",
       "      <th>Category</th>\n",
       "    </tr>\n",
       "  </thead>\n",
       "  <tbody>\n",
       "    <tr>\n",
       "      <th>0</th>\n",
       "      <td>https://www.thefulltoss.com/</td>\n",
       "      <td>toss cricket blog english cricket spin irrever...</td>\n",
       "      <td>News</td>\n",
       "    </tr>\n",
       "    <tr>\n",
       "      <th>1</th>\n",
       "      <td>https://secondlife.com/</td>\n",
       "      <td>official site second life virtual world virtua...</td>\n",
       "      <td>Social Networking and Messaging</td>\n",
       "    </tr>\n",
       "    <tr>\n",
       "      <th>2</th>\n",
       "      <td>https://www.paltalk.com/</td>\n",
       "      <td>video chat paltalk large video chat room commu...</td>\n",
       "      <td>Social Networking and Messaging</td>\n",
       "    </tr>\n",
       "    <tr>\n",
       "      <th>3</th>\n",
       "      <td>https://secure.imvu.com/welcome/ftux/</td>\n",
       "      <td>imvu 3d avatar social app virtual world virtua...</td>\n",
       "      <td>Social Networking and Messaging</td>\n",
       "    </tr>\n",
       "    <tr>\n",
       "      <th>4</th>\n",
       "      <td>https://enterchatroom.com/</td>\n",
       "      <td>enter chatroom free online chat room free chat...</td>\n",
       "      <td>Social Networking and Messaging</td>\n",
       "    </tr>\n",
       "  </tbody>\n",
       "</table>\n",
       "</div>"
      ],
      "text/plain": [
       "                             website_url  \\\n",
       "0           https://www.thefulltoss.com/   \n",
       "1                https://secondlife.com/   \n",
       "2               https://www.paltalk.com/   \n",
       "3  https://secure.imvu.com/welcome/ftux/   \n",
       "4             https://enterchatroom.com/   \n",
       "\n",
       "                                cleaned_website_text  \\\n",
       "0  toss cricket blog english cricket spin irrever...   \n",
       "1  official site second life virtual world virtua...   \n",
       "2  video chat paltalk large video chat room commu...   \n",
       "3  imvu 3d avatar social app virtual world virtua...   \n",
       "4  enter chatroom free online chat room free chat...   \n",
       "\n",
       "                          Category  \n",
       "0                             News  \n",
       "1  Social Networking and Messaging  \n",
       "2  Social Networking and Messaging  \n",
       "3  Social Networking and Messaging  \n",
       "4  Social Networking and Messaging  "
      ]
     },
     "execution_count": 2,
     "metadata": {},
     "output_type": "execute_result"
    }
   ],
   "source": [
    "df = pd.read_csv('../website_classification.csv')\n",
    "df.head(5)"
   ]
  },
  {
   "cell_type": "code",
   "execution_count": 3,
   "metadata": {},
   "outputs": [
    {
     "name": "stdout",
     "output_type": "stream",
     "text": [
      "<class 'pandas.core.frame.DataFrame'>\n",
      "RangeIndex: 998 entries, 0 to 997\n",
      "Data columns (total 3 columns):\n",
      " #   Column                Non-Null Count  Dtype \n",
      "---  ------                --------------  ----- \n",
      " 0   website_url           998 non-null    object\n",
      " 1   cleaned_website_text  997 non-null    object\n",
      " 2   Category              998 non-null    object\n",
      "dtypes: object(3)\n",
      "memory usage: 23.5+ KB\n"
     ]
    }
   ],
   "source": [
    "df.info() #checking if there is any Nan or null values"
   ]
  },
  {
   "cell_type": "code",
   "execution_count": 4,
   "metadata": {},
   "outputs": [
    {
     "data": {
      "image/png": "[encoded data removed]",
      "text/plain": [
       "<Figure size 720x360 with 1 Axes>"
      ]
     },
     "metadata": {
      "needs_background": "light"
     },
     "output_type": "display_data"
    }
   ],
   "source": [
    "#visualising the count of each category\n",
    "plt.figure(figsize=(10,5))\n",
    "plt.title(\"Category vs Count\")\n",
    "site_category_count = pd.DataFrame(df.groupby(df['Category']).size(),columns=['Count'])\n",
    "plt.barh(width=site_category_count['Count'],y=site_category_count.index)\n",
    "plt.show()"
   ]
  },
  {
   "cell_type": "code",
   "execution_count": 5,
   "metadata": {},
   "outputs": [],
   "source": [
    "from nltk.stem.wordnet import WordNetLemmatizer\n",
    "lem = WordNetLemmatizer()\n",
    "\n",
    "def pos_tagger(nltk_tag):\n",
    "    if nltk_tag.startswith('J'):\n",
    "        return 'a'\n",
    "    elif nltk_tag.startswith('V'):\n",
    "        return 'v'\n",
    "    elif nltk_tag.startswith('R'):\n",
    "        return 'r'\n",
    "    else:\n",
    "        return 'n'\n",
    "    \n",
    "#Define function to lemmatize each word with its POS tag\n",
    "def lemmatize_words(text):\n",
    "    pos_tagged_text = nltk.pos_tag(text)\n",
    "    pos_tagged_text = [(word, pos_tagger(pos_tag)) for word, pos_tag in pos_tagged_text]\n",
    "    return [lem.lemmatize(word, pos_tag) for word, pos_tag in pos_tagged_text]"
   ]
  },
  {
   "cell_type": "code",
   "execution_count": 6,
   "metadata": {},
   "outputs": [],
   "source": [
    "from nltk.corpus import stopwords\n",
    "\n",
    "stop_words = stopwords.words('english')\n",
    "stop_words.extend([\"decemeber\",\"dec\",\"january\",\"jan\",\"feb\",\"february\",\"march\",\"mar\",\"may\",\"april\",\"apr\",\"june\",\"jun\",\"july\",\"jul\",\"august\",\"aug\",\"september\",\"sept\",\"oct\",\"october\",\"nov\",\"november\",\n",
    "                   \"one\",\"two\",\"three\",\"hundred\",\"thousand\",\"million\",\"billion\",\"today\",\"tomorow\",\"week\",\"month\",\"year\",\"sign in\",\"login\",\"sign up\"])\n",
    "\n",
    "stop_words.extend(['afghanistan', 'albania', 'algeria', 'andorra', 'angola', 'antigua', 'argentina', 'armenia', 'australia',\n",
    "    'austria', 'azerbaijan', 'bahamas', 'bahrain', 'bangladesh', 'barbados', 'belarus', 'belgium', 'belize',\n",
    "    'benin', 'bhutan', 'bolivia', 'bosnia', 'botswana', 'brazil', 'brunei', 'bulgaria', 'burkina', 'burundi',\n",
    "    'cambodia', 'cameroon', 'canada', 'cape', 'central', 'chad', 'chile', 'china', 'colombia', 'comoros',\n",
    "    'congo', 'costa', 'croatia', 'cuba', 'cyprus', 'czech', 'denmark', 'djibouti', 'dominica', 'dominican',\n",
    "    'east', 'ecuador', 'egypt', 'el', 'equatorial', 'eritrea', 'estonia', 'ethiopia', 'fiji', 'finland',\n",
    "    'france', 'gabon', 'gambia', 'georgia', 'germany', 'ghana', 'greece', 'grenada', 'guatemala', 'guinea',\n",
    "    'guyana', 'haiti', 'honduras', 'hungary', 'iceland', 'india', 'indonesia', 'iran', 'iraq', 'ireland',\n",
    "    'israel', 'italy', 'jamaica', 'japan', 'jordan', 'kazakhstan', 'kenya', 'kiribati', 'korea', 'kosovo',\n",
    "    'kuwait', 'kyrgyzstan', 'laos', 'latvia', 'lebanon', 'lesotho', 'liberia', 'libya', 'liechtenstein',\n",
    "    'lithuania', 'luxembourg', 'macedonia', 'madagascar', 'malawi', 'malaysia', 'maldives', 'mali', 'malta',\n",
    "    'marshall', 'mauritania', 'mauritius', 'mexico', 'micronesia', 'moldova', 'monaco', 'mongolia', 'montenegro',\n",
    "    'morocco', 'mozambique', 'myanmar', 'namibia', 'nauru', 'nepal', 'netherlands', 'new', 'nicaragua',\n",
    "    'niger', 'nigeria', 'norway', 'oman', 'pakistan', 'palau', 'panama', 'papua', 'paraguay', 'peru',\n",
    "    'philippines', 'poland', 'portugal', 'qatar', 'romania', 'russia', 'rwanda', 'samoa', 'san', 'sao',\n",
    "    'senegal', 'serbia', 'seychelles', 'sierra', 'singapore', 'slovakia', 'slovenia', 'solomon', 'somalia',\n",
    "    'south', 'spain', 'sri', 'st.', 'sudan', 'suriname', 'swaziland', 'sweden', 'switzerland', 'syria',\n",
    "    'taiwan', 'tajikistan', 'tanzania', 'thailand', 'timor-leste', 'togo', 'tonga', 'trinidad', 'tunisia',\n",
    "    'turkey', 'turkmenistan', 'tuvalu', 'uganda', 'ukraine', 'united', 'uruguay', 'uzbekistan', 'vanuatu',\n",
    "    'vatican', 'venezuela', 'vietnam', 'yemen', 'zambia', 'zimbabwe'])\n",
    "\n",
    "stop_words.extend([\n",
    "    'dollar', 'euro', 'pound', 'rupee', 'yen', 'yuan', 'won', 'franc', 'dinar', 'peso', 'lira', 'rupee', 'ruble',\n",
    "    'koruna', 'baht', 'real', 'zloty', 'rand', 'shekel', 'krona', 'dirham', 'forint', 'colón', 'hryvnia',\n",
    "    'leu', 'ringgit', 'kuna', 'lempira', 'cordoba', 'kwacha', 'taka', 'quetzal', 'birr', 'rial', 'tenge',\n",
    "    'shilling', 'kwacha', 'naira', 'rial', 'dinar', 'rupiah', 'pula', 'riyal', 'dinar', 'lilangeni', 'krona',\n",
    "    'franc', 'syli', 'peso', 'shilling', 'baht', 'vatu', 'bolivar', 'dong', 'rial'\n",
    "])"
   ]
  },
  {
   "cell_type": "code",
   "execution_count": 7,
   "metadata": {},
   "outputs": [
    {
     "ename": "AttributeError",
     "evalue": "'float' object has no attribute 'lower'",
     "output_type": "error",
     "traceback": [
      "\u001b[1;31m---------------------------------------------------------------------------\u001b[0m",
      "\u001b[1;31mAttributeError\u001b[0m                            Traceback (most recent call last)",
      "\u001b[1;32m~\\AppData\\Local\\Temp/ipykernel_24312/3726530310.py\u001b[0m in \u001b[0;36m<module>\u001b[1;34m\u001b[0m\n\u001b[0;32m      1\u001b[0m \u001b[1;32mfrom\u001b[0m \u001b[0mnltk\u001b[0m\u001b[1;33m.\u001b[0m\u001b[0mtokenize\u001b[0m \u001b[1;32mimport\u001b[0m \u001b[0mword_tokenize\u001b[0m\u001b[1;33m\u001b[0m\u001b[1;33m\u001b[0m\u001b[0m\n\u001b[0;32m      2\u001b[0m \u001b[1;33m\u001b[0m\u001b[0m\n\u001b[1;32m----> 3\u001b[1;33m \u001b[0mdf\u001b[0m\u001b[1;33m[\u001b[0m\u001b[1;34m'cleaned_website_text'\u001b[0m\u001b[1;33m]\u001b[0m \u001b[1;33m=\u001b[0m \u001b[0mdf\u001b[0m\u001b[1;33m[\u001b[0m\u001b[1;34m'cleaned_website_text'\u001b[0m\u001b[1;33m]\u001b[0m\u001b[1;33m.\u001b[0m\u001b[0mapply\u001b[0m\u001b[1;33m(\u001b[0m\u001b[1;32mlambda\u001b[0m \u001b[0mx\u001b[0m\u001b[1;33m:\u001b[0m \u001b[0mx\u001b[0m\u001b[1;33m.\u001b[0m\u001b[0mlower\u001b[0m\u001b[1;33m(\u001b[0m\u001b[1;33m)\u001b[0m\u001b[1;33m)\u001b[0m\u001b[1;33m\u001b[0m\u001b[1;33m\u001b[0m\u001b[0m\n\u001b[0m\u001b[0;32m      4\u001b[0m \u001b[0mdf\u001b[0m\u001b[1;33m[\u001b[0m\u001b[1;34m'cleaned_website_text'\u001b[0m\u001b[1;33m]\u001b[0m \u001b[1;33m=\u001b[0m \u001b[0mdf\u001b[0m\u001b[1;33m[\u001b[0m\u001b[1;34m'cleaned_website_text'\u001b[0m\u001b[1;33m]\u001b[0m\u001b[1;33m.\u001b[0m\u001b[0mapply\u001b[0m\u001b[1;33m(\u001b[0m\u001b[1;32mlambda\u001b[0m \u001b[0mx\u001b[0m\u001b[1;33m:\u001b[0m \u001b[0mre\u001b[0m\u001b[1;33m.\u001b[0m\u001b[0msub\u001b[0m\u001b[1;33m(\u001b[0m\u001b[1;34mr'http\\S+|www\\S+'\u001b[0m\u001b[1;33m,\u001b[0m \u001b[1;34m' '\u001b[0m\u001b[1;33m,\u001b[0m \u001b[0mx\u001b[0m\u001b[1;33m)\u001b[0m\u001b[1;33m)\u001b[0m\u001b[1;33m\u001b[0m\u001b[1;33m\u001b[0m\u001b[0m\n\u001b[0;32m      5\u001b[0m \u001b[0mdf\u001b[0m\u001b[1;33m[\u001b[0m\u001b[1;34m'cleaned_website_text'\u001b[0m\u001b[1;33m]\u001b[0m \u001b[1;33m=\u001b[0m \u001b[0mdf\u001b[0m\u001b[1;33m[\u001b[0m\u001b[1;34m'cleaned_website_text'\u001b[0m\u001b[1;33m]\u001b[0m\u001b[1;33m.\u001b[0m\u001b[0mapply\u001b[0m\u001b[1;33m(\u001b[0m\u001b[1;32mlambda\u001b[0m \u001b[0mx\u001b[0m\u001b[1;33m:\u001b[0m \u001b[0mre\u001b[0m\u001b[1;33m.\u001b[0m\u001b[0msub\u001b[0m\u001b[1;33m(\u001b[0m\u001b[1;34mr'[^\\w\\s]'\u001b[0m\u001b[1;33m,\u001b[0m\u001b[1;34m''\u001b[0m\u001b[1;33m,\u001b[0m\u001b[0mx\u001b[0m\u001b[1;33m)\u001b[0m\u001b[1;33m)\u001b[0m\u001b[1;33m\u001b[0m\u001b[1;33m\u001b[0m\u001b[0m\n",
      "\u001b[1;32mc:\\Users\\User01\\AppData\\Local\\Programs\\Python\\Python39\\lib\\site-packages\\pandas\\core\\series.py\u001b[0m in \u001b[0;36mapply\u001b[1;34m(self, func, convert_dtype, args, **kwargs)\u001b[0m\n\u001b[0;32m   4428\u001b[0m         \u001b[0mdtype\u001b[0m\u001b[1;33m:\u001b[0m \u001b[0mfloat64\u001b[0m\u001b[1;33m\u001b[0m\u001b[1;33m\u001b[0m\u001b[0m\n\u001b[0;32m   4429\u001b[0m         \"\"\"\n\u001b[1;32m-> 4430\u001b[1;33m         \u001b[1;32mreturn\u001b[0m \u001b[0mSeriesApply\u001b[0m\u001b[1;33m(\u001b[0m\u001b[0mself\u001b[0m\u001b[1;33m,\u001b[0m \u001b[0mfunc\u001b[0m\u001b[1;33m,\u001b[0m \u001b[0mconvert_dtype\u001b[0m\u001b[1;33m,\u001b[0m \u001b[0margs\u001b[0m\u001b[1;33m,\u001b[0m \u001b[0mkwargs\u001b[0m\u001b[1;33m)\u001b[0m\u001b[1;33m.\u001b[0m\u001b[0mapply\u001b[0m\u001b[1;33m(\u001b[0m\u001b[1;33m)\u001b[0m\u001b[1;33m\u001b[0m\u001b[1;33m\u001b[0m\u001b[0m\n\u001b[0m\u001b[0;32m   4431\u001b[0m \u001b[1;33m\u001b[0m\u001b[0m\n\u001b[0;32m   4432\u001b[0m     def _reduce(\n",
      "\u001b[1;32mc:\\Users\\User01\\AppData\\Local\\Programs\\Python\\Python39\\lib\\site-packages\\pandas\\core\\apply.py\u001b[0m in \u001b[0;36mapply\u001b[1;34m(self)\u001b[0m\n\u001b[0;32m   1080\u001b[0m             \u001b[1;32mreturn\u001b[0m \u001b[0mself\u001b[0m\u001b[1;33m.\u001b[0m\u001b[0mapply_str\u001b[0m\u001b[1;33m(\u001b[0m\u001b[1;33m)\u001b[0m\u001b[1;33m\u001b[0m\u001b[1;33m\u001b[0m\u001b[0m\n\u001b[0;32m   1081\u001b[0m \u001b[1;33m\u001b[0m\u001b[0m\n\u001b[1;32m-> 1082\u001b[1;33m         \u001b[1;32mreturn\u001b[0m \u001b[0mself\u001b[0m\u001b[1;33m.\u001b[0m\u001b[0mapply_standard\u001b[0m\u001b[1;33m(\u001b[0m\u001b[1;33m)\u001b[0m\u001b[1;33m\u001b[0m\u001b[1;33m\u001b[0m\u001b[0m\n\u001b[0m\u001b[0;32m   1083\u001b[0m \u001b[1;33m\u001b[0m\u001b[0m\n\u001b[0;32m   1084\u001b[0m     \u001b[1;32mdef\u001b[0m \u001b[0magg\u001b[0m\u001b[1;33m(\u001b[0m\u001b[0mself\u001b[0m\u001b[1;33m)\u001b[0m\u001b[1;33m:\u001b[0m\u001b[1;33m\u001b[0m\u001b[1;33m\u001b[0m\u001b[0m\n",
      "\u001b[1;32mc:\\Users\\User01\\AppData\\Local\\Programs\\Python\\Python39\\lib\\site-packages\\pandas\\core\\apply.py\u001b[0m in \u001b[0;36mapply_standard\u001b[1;34m(self)\u001b[0m\n\u001b[0;32m   1135\u001b[0m                 \u001b[1;31m# List[Union[Callable[..., Any], str]]]]]\"; expected\u001b[0m\u001b[1;33m\u001b[0m\u001b[1;33m\u001b[0m\u001b[1;33m\u001b[0m\u001b[0m\n\u001b[0;32m   1136\u001b[0m                 \u001b[1;31m# \"Callable[[Any], Any]\"\u001b[0m\u001b[1;33m\u001b[0m\u001b[1;33m\u001b[0m\u001b[1;33m\u001b[0m\u001b[0m\n\u001b[1;32m-> 1137\u001b[1;33m                 mapped = lib.map_infer(\n\u001b[0m\u001b[0;32m   1138\u001b[0m                     \u001b[0mvalues\u001b[0m\u001b[1;33m,\u001b[0m\u001b[1;33m\u001b[0m\u001b[1;33m\u001b[0m\u001b[0m\n\u001b[0;32m   1139\u001b[0m                     \u001b[0mf\u001b[0m\u001b[1;33m,\u001b[0m  \u001b[1;31m# type: ignore[arg-type]\u001b[0m\u001b[1;33m\u001b[0m\u001b[1;33m\u001b[0m\u001b[0m\n",
      "\u001b[1;32mc:\\Users\\User01\\AppData\\Local\\Programs\\Python\\Python39\\lib\\site-packages\\pandas\\_libs\\lib.pyx\u001b[0m in \u001b[0;36mpandas._libs.lib.map_infer\u001b[1;34m()\u001b[0m\n",
      "\u001b[1;32m~\\AppData\\Local\\Temp/ipykernel_24312/3726530310.py\u001b[0m in \u001b[0;36m<lambda>\u001b[1;34m(x)\u001b[0m\n\u001b[0;32m      1\u001b[0m \u001b[1;32mfrom\u001b[0m \u001b[0mnltk\u001b[0m\u001b[1;33m.\u001b[0m\u001b[0mtokenize\u001b[0m \u001b[1;32mimport\u001b[0m \u001b[0mword_tokenize\u001b[0m\u001b[1;33m\u001b[0m\u001b[1;33m\u001b[0m\u001b[0m\n\u001b[0;32m      2\u001b[0m \u001b[1;33m\u001b[0m\u001b[0m\n\u001b[1;32m----> 3\u001b[1;33m \u001b[0mdf\u001b[0m\u001b[1;33m[\u001b[0m\u001b[1;34m'cleaned_website_text'\u001b[0m\u001b[1;33m]\u001b[0m \u001b[1;33m=\u001b[0m \u001b[0mdf\u001b[0m\u001b[1;33m[\u001b[0m\u001b[1;34m'cleaned_website_text'\u001b[0m\u001b[1;33m]\u001b[0m\u001b[1;33m.\u001b[0m\u001b[0mapply\u001b[0m\u001b[1;33m(\u001b[0m\u001b[1;32mlambda\u001b[0m \u001b[0mx\u001b[0m\u001b[1;33m:\u001b[0m \u001b[0mx\u001b[0m\u001b[1;33m.\u001b[0m\u001b[0mlower\u001b[0m\u001b[1;33m(\u001b[0m\u001b[1;33m)\u001b[0m\u001b[1;33m)\u001b[0m\u001b[1;33m\u001b[0m\u001b[1;33m\u001b[0m\u001b[0m\n\u001b[0m\u001b[0;32m      4\u001b[0m \u001b[0mdf\u001b[0m\u001b[1;33m[\u001b[0m\u001b[1;34m'cleaned_website_text'\u001b[0m\u001b[1;33m]\u001b[0m \u001b[1;33m=\u001b[0m \u001b[0mdf\u001b[0m\u001b[1;33m[\u001b[0m\u001b[1;34m'cleaned_website_text'\u001b[0m\u001b[1;33m]\u001b[0m\u001b[1;33m.\u001b[0m\u001b[0mapply\u001b[0m\u001b[1;33m(\u001b[0m\u001b[1;32mlambda\u001b[0m \u001b[0mx\u001b[0m\u001b[1;33m:\u001b[0m \u001b[0mre\u001b[0m\u001b[1;33m.\u001b[0m\u001b[0msub\u001b[0m\u001b[1;33m(\u001b[0m\u001b[1;34mr'http\\S+|www\\S+'\u001b[0m\u001b[1;33m,\u001b[0m \u001b[1;34m' '\u001b[0m\u001b[1;33m,\u001b[0m \u001b[0mx\u001b[0m\u001b[1;33m)\u001b[0m\u001b[1;33m)\u001b[0m\u001b[1;33m\u001b[0m\u001b[1;33m\u001b[0m\u001b[0m\n\u001b[0;32m      5\u001b[0m \u001b[0mdf\u001b[0m\u001b[1;33m[\u001b[0m\u001b[1;34m'cleaned_website_text'\u001b[0m\u001b[1;33m]\u001b[0m \u001b[1;33m=\u001b[0m \u001b[0mdf\u001b[0m\u001b[1;33m[\u001b[0m\u001b[1;34m'cleaned_website_text'\u001b[0m\u001b[1;33m]\u001b[0m\u001b[1;33m.\u001b[0m\u001b[0mapply\u001b[0m\u001b[1;33m(\u001b[0m\u001b[1;32mlambda\u001b[0m \u001b[0mx\u001b[0m\u001b[1;33m:\u001b[0m \u001b[0mre\u001b[0m\u001b[1;33m.\u001b[0m\u001b[0msub\u001b[0m\u001b[1;33m(\u001b[0m\u001b[1;34mr'[^\\w\\s]'\u001b[0m\u001b[1;33m,\u001b[0m\u001b[1;34m''\u001b[0m\u001b[1;33m,\u001b[0m\u001b[0mx\u001b[0m\u001b[1;33m)\u001b[0m\u001b[1;33m)\u001b[0m\u001b[1;33m\u001b[0m\u001b[1;33m\u001b[0m\u001b[0m\n",
      "\u001b[1;31mAttributeError\u001b[0m: 'float' object has no attribute 'lower'"
     ]
    }
   ],
   "source": [
    "from nltk.tokenize import word_tokenize\n",
    "\n",
    "df['cleaned_website_text'] = df['cleaned_website_text'].apply(lambda x: x.lower())\n",
    "df['cleaned_website_text'] = df['cleaned_website_text'].apply(lambda x: re.sub(r'http\\S+|www\\S+', ' ', x))\n",
    "df['cleaned_website_text'] = df['cleaned_website_text'].apply(lambda x: re.sub(r'[^\\w\\s]','',x))\n",
    "df['cleaned_website_text'] = df['cleaned_website_text'].apply(lambda x: re.sub(r'_+',' ',x))\n",
    "df['cleaned_website_text'] = df['cleaned_website_text'].apply(lambda x: re.sub(r'\\d+','',x))\n",
    "df['cleaned_website_text'] = df['cleaned_website_text'].apply(lambda x: re.sub(r'\\s+',' ',x))\n",
    "df['cleaned_website_text'] = df['cleaned_website_text'].apply(lambda x: word_tokenize(x))\n",
    "df['cleaned_website_text'] = df['cleaned_website_text'].apply(lambda x: [word for word in x if word not in stop_words])\n",
    "df['cleaned_website_text'] = df['cleaned_website_text'].apply(lambda x: [word for word in x if len(word)>2])\n",
    "df['cleaned_website_text'] = df['cleaned_website_text'].apply(lambda x: lemmatize_words(x))\n",
    "# df['cleaned_website_text'] = df['cleaned_website_text'].apply(lambda x: [lem.lemmatize(word) for word in x])\n",
    "df['cleaned_website_text'] = df['cleaned_website_text'].apply(lambda x: ' '.join(x))"
   ]
  },
  {
   "cell_type": "code",
   "execution_count": 8,
   "metadata": {},
   "outputs": [],
   "source": [
    "from sklearn.preprocessing import LabelEncoder\n",
    "\n",
    "le = LabelEncoder()\n",
    "df['Category'] = le.fit_transform(df['Category'])"
   ]
  },
  {
   "cell_type": "code",
   "execution_count": 9,
   "metadata": {},
   "outputs": [],
   "source": [
    "from sklearn.model_selection import train_test_split\n",
    "X_train,X_test,y_train,y_test = train_test_split(df['cleaned_website_text'],df['Category'],test_size=0.2,random_state=42)"
   ]
  },
  {
   "cell_type": "code",
   "execution_count": 10,
   "metadata": {},
   "outputs": [],
   "source": [
    "from sklearn.feature_extraction.text import TfidfVectorizer\n",
    "\n",
    "tf_id_vectorizer = TfidfVectorizer(analyzer='word',smooth_idf=True,max_features=5000,ngram_range=(1,2))\n",
    "tf_id_train = tf_id_vectorizer.fit_transform(X_train)\n",
    "tf_id_test = tf_id_vectorizer.transform(X_test)"
   ]
  },
  {
   "cell_type": "code",
   "execution_count": 11,
   "metadata": {},
   "outputs": [],
   "source": [
    "# feature_frequencies = tf_id_train.sum(axis=0)\n",
    "# feature_frequencies_1d = np.ravel(feature_frequencies)\n",
    "# threshold_frequency = np.percentile(feature_frequencies_1d, 50)\n",
    "# low_frequency_features = [feature for feature,frequency in zip(tf_id_vectorizer.get_feature_names_out(),feature_frequencies.A1) if frequency < threshold_frequency]"
   ]
  },
  {
   "cell_type": "code",
   "execution_count": 12,
   "metadata": {},
   "outputs": [],
   "source": [
    "# vectorizer_filtered = TfidfVectorizer(analyzer='word',smooth_idf=True, max_features=5000, vocabulary=set(tf_id_vectorizer.get_feature_names_out())-set(low_frequency_features),ngram_range=(1,2))\n",
    "# tf_id_train_filtered = vectorizer_filtered.fit_transform(X_train)\n",
    "# tf_id_test_filtered = vectorizer_filtered.transform(X_test)"
   ]
  },
  {
   "cell_type": "code",
   "execution_count": 13,
   "metadata": {},
   "outputs": [
    {
     "name": "stdout",
     "output_type": "stream",
     "text": [
      "Evaluating: MNB\n",
      "Best parameters: {'mnb__alpha': 0.1}\n",
      "Accuracy: 0.9226804123711341\n",
      "Precision: 0.907743392703975\n",
      "Recall: 0.9226804123711341\n",
      "F1 score: 0.9112622712055155\n",
      "----------------------------------\n",
      "Evaluating: SVM\n",
      "Best parameters: {'svm__C': 10, 'svm__kernel': 'linear'}\n",
      "Accuracy: 0.9226804123711341\n",
      "Precision: 0.9269077178216689\n",
      "Recall: 0.9226804123711341\n",
      "F1 score: 0.9192526461976488\n",
      "----------------------------------\n",
      "Evaluating: SGD\n",
      "Best parameters: {'sgd__alpha': 0.0001, 'sgd__max_iter': 3000, 'sgd__penalty': 'l2'}\n",
      "Accuracy: 0.9432989690721649\n",
      "Precision: 0.9472529702290163\n",
      "Recall: 0.9432989690721649\n",
      "F1 score: 0.9401430327501548\n",
      "----------------------------------\n"
     ]
    }
   ],
   "source": [
    "from sklearn.model_selection import GridSearchCV\n",
    "from sklearn.pipeline import Pipeline\n",
    "from sklearn.feature_extraction.text import TfidfVectorizer\n",
    "from sklearn.feature_selection import SelectKBest, chi2\n",
    "from sklearn.svm import SVC\n",
    "from sklearn.naive_bayes import MultinomialNB\n",
    "from sklearn.linear_model import SGDClassifier\n",
    "from sklearn.metrics import accuracy_score, precision_score, recall_score, f1_score\n",
    "\n",
    "# Assuming you have your training data (X_train) and corresponding labels (y_train)\n",
    "\n",
    "# Define the models and their respective hyperparameters to try during grid search\n",
    "models = {\n",
    "    'MNB': {\n",
    "        'model': MultinomialNB(),\n",
    "        'params': {\n",
    "            'mnb__alpha': [0.1, 0.5, 1.0, 1.5, 2.0]\n",
    "        }\n",
    "    },\n",
    "    'SVM': {\n",
    "        'model': SVC(),\n",
    "        'params': {\n",
    "            'svm__C': [1, 10],\n",
    "            'svm__kernel': ['linear', 'rbf']\n",
    "        }\n",
    "    },\n",
    "    'SGD':{\n",
    "        'model': SGDClassifier(),\n",
    "        'params': {\n",
    "            'sgd__alpha': [ 0.00001,0.0001, 0.001, 0.01, 0.1],\n",
    "            'sgd__penalty': ['l1', 'l2', 'elasticnet'],\n",
    "            'sgd__max_iter': [1000, 2000, 3000,4000],\n",
    "        }\n",
    "    }\n",
    "}\n",
    "\n",
    "# Perform grid search and cross-validation for each model\n",
    "for model_name, model_data in models.items():\n",
    "    print(\"Evaluating:\", model_name)\n",
    "    \n",
    "    # Create a pipeline with a TF-IDF vectorizer and the current model\n",
    "    pipeline = Pipeline([\n",
    "        # (\"feature_selection\", SelectKBest(score_func=chi2)),\n",
    "        (model_name.lower(), model_data['model'])\n",
    "    ])\n",
    "    \n",
    "    # Define the hyperparameters for the current model\n",
    "    parameters = {\n",
    "        # 'feature_selection__k':[1000, 2000, 3000, 4000, 5000],\n",
    "        **model_data['params']\n",
    "    }\n",
    "    \n",
    "    # Perform grid search with 5-fold cross-validation\n",
    "    grid_search = GridSearchCV(pipeline, parameters, cv=5, scoring='accuracy')\n",
    "    grid_search.fit(tf_id_train, y_train)\n",
    "    \n",
    "    # Get the best model and its corresponding hyperparameters\n",
    "    best_model = grid_search.best_estimator_\n",
    "    best_params = grid_search.best_params_\n",
    "    \n",
    "    # Make predictions on the test set\n",
    "    y_pred = best_model.predict(tf_id_test)\n",
    "    \n",
    "    # Calculate and print evaluation metrics\n",
    "    accuracy = accuracy_score(y_test, y_pred)\n",
    "    precision = precision_score(y_test, y_pred, average='weighted',zero_division=0)\n",
    "    recall = recall_score(y_test, y_pred, average='weighted',zero_division=0)\n",
    "    f1 = f1_score(y_test, y_pred, average='weighted',zero_division=0)\n",
    "    \n",
    "    print(\"Best parameters:\", best_params)\n",
    "    print(\"Accuracy:\", accuracy)\n",
    "    print(\"Precision:\", precision)\n",
    "    print(\"Recall:\", recall)\n",
    "    print(\"F1 score:\", f1)\n",
    "    print(\"----------------------------------\")"
   ]
  },
  {
   "cell_type": "code",
   "execution_count": 14,
   "metadata": {},
   "outputs": [],
   "source": [
    "# from sklearn.feature_selection import chi2\n",
    "# k = 4000\n",
    "# chi2_selector = SelectKBest(score_func=chi2, k=k)\n",
    "\n",
    "# X_train_selected = chi2_selector.fit_transform(tf_id_train, y_train)\n",
    "# X_test_selected = chi2_selector.transform(tf_id_test)"
   ]
  },
  {
   "cell_type": "code",
   "execution_count": 15,
   "metadata": {},
   "outputs": [
    {
     "data": {
      "text/plain": [
       "SGDClassifier(max_iter=3000)"
      ]
     },
     "execution_count": 15,
     "metadata": {},
     "output_type": "execute_result"
    }
   ],
   "source": [
    "# model = MultinomialNB(alpha=0.1)\n",
    "# model = SVC(C=10, kernel='linear')\n",
    "model = SGDClassifier(alpha=0.0001,max_iter=3000, penalty='l2')\n",
    "model.fit(tf_id_train,y_train)"
   ]
  },
  {
   "cell_type": "code",
   "execution_count": 16,
   "metadata": {},
   "outputs": [
    {
     "name": "stdout",
     "output_type": "stream",
     "text": [
      "The accuracy of train model is 1.0\n",
      "The accuracy of test model is 0.9484536082474226\n"
     ]
    }
   ],
   "source": [
    "import sklearn.metrics as sm\n",
    "\n",
    "y_pred = model.predict(tf_id_test)\n",
    "print(f'The accuracy of train model is {sm.accuracy_score(y_train,model.predict(tf_id_train))}')\n",
    "print(f'The accuracy of test model is {sm.accuracy_score(y_test,y_pred)}')"
   ]
  },
  {
   "cell_type": "code",
   "execution_count": 17,
   "metadata": {},
   "outputs": [
    {
     "name": "stdout",
     "output_type": "stream",
     "text": [
      "              precision    recall  f1-score   support\n",
      "\n",
      "           0       1.00      1.00      1.00         7\n",
      "           1       1.00      0.93      0.96        72\n",
      "           2       1.00      0.91      0.95        11\n",
      "           3       0.50      0.67      0.57         3\n",
      "           4       0.88      1.00      0.93         7\n",
      "           5       1.00      1.00      1.00        13\n",
      "           6       0.94      1.00      0.97        29\n",
      "           7       1.00      0.94      0.97        18\n",
      "           8       1.00      0.88      0.94        17\n",
      "           9       0.77      1.00      0.87        17\n",
      "\n",
      "    accuracy                           0.95       194\n",
      "   macro avg       0.91      0.93      0.92       194\n",
      "weighted avg       0.96      0.95      0.95       194\n",
      "\n"
     ]
    },
    {
     "data": {
      "text/plain": [
       "<AxesSubplot:>"
      ]
     },
     "execution_count": 17,
     "metadata": {},
     "output_type": "execute_result"
    },
    {
     "data": {
      "image/png": "[encoded data removed]",
      "text/plain": [
       "<Figure size 720x432 with 2 Axes>"
      ]
     },
     "metadata": {
      "needs_background": "light"
     },
     "output_type": "display_data"
    }
   ],
   "source": [
    "import seaborn as sns\n",
    "from sklearn.metrics import confusion_matrix,classification_report\n",
    "\n",
    "plt.figure(figsize=(10,6))\n",
    "predictions = model.predict(tf_id_test)\n",
    "print(classification_report(predictions,y_test))\n",
    "sns.heatmap(confusion_matrix(predictions,y_test),cmap='coolwarm',annot=True)"
   ]
  },
  {
   "cell_type": "code",
   "execution_count": 19,
   "metadata": {},
   "outputs": [
    {
     "data": {
      "text/html": [
       "<div>\n",
       "<style scoped>\n",
       "    .dataframe tbody tr th:only-of-type {\n",
       "        vertical-align: middle;\n",
       "    }\n",
       "\n",
       "    .dataframe tbody tr th {\n",
       "        vertical-align: top;\n",
       "    }\n",
       "\n",
       "    .dataframe thead th {\n",
       "        text-align: right;\n",
       "    }\n",
       "</style>\n",
       "<table border=\"1\" class=\"dataframe\">\n",
       "  <thead>\n",
       "    <tr style=\"text-align: right;\">\n",
       "      <th></th>\n",
       "      <th>Cleaned Text</th>\n",
       "      <th>Actual</th>\n",
       "      <th>Predicted</th>\n",
       "    </tr>\n",
       "  </thead>\n",
       "  <tbody>\n",
       "    <tr>\n",
       "      <th>955</th>\n",
       "      <td>(0, 20)\\t0.05694643229547886\\n  (0, 160)\\t0....</td>\n",
       "      <td>6</td>\n",
       "      <td>7</td>\n",
       "    </tr>\n",
       "    <tr>\n",
       "      <th>916</th>\n",
       "      <td>(0, 48)\\t0.022258330224803072\\n  (0, 64)\\t0....</td>\n",
       "      <td>6</td>\n",
       "      <td>2</td>\n",
       "    </tr>\n",
       "  </tbody>\n",
       "</table>\n",
       "</div>"
      ],
      "text/plain": [
       "                                          Cleaned Text  Actual  Predicted\n",
       "955    (0, 20)\\t0.05694643229547886\\n  (0, 160)\\t0....       6          7\n",
       "916    (0, 48)\\t0.022258330224803072\\n  (0, 64)\\t0....       6          2"
      ]
     },
     "execution_count": 19,
     "metadata": {},
     "output_type": "execute_result"
    }
   ],
   "source": [
    "pd.set_option('display.max_rows', None)\n",
    "predictions = model.predict(tf_id_test)\n",
    "results = pd.DataFrame({'Cleaned Text':tf_id_test,'Actual':y_test,'Predicted':predictions})\n",
    "results[(results['Actual']==6) & (results['Actual']!=results['Predicted'])]"
   ]
  },
  {
   "cell_type": "code",
   "execution_count": 20,
   "metadata": {},
   "outputs": [
    {
     "data": {
      "text/html": [
       "<div>\n",
       "<style scoped>\n",
       "    .dataframe tbody tr th:only-of-type {\n",
       "        vertical-align: middle;\n",
       "    }\n",
       "\n",
       "    .dataframe tbody tr th {\n",
       "        vertical-align: top;\n",
       "    }\n",
       "\n",
       "    .dataframe thead th {\n",
       "        text-align: right;\n",
       "    }\n",
       "</style>\n",
       "<table border=\"1\" class=\"dataframe\">\n",
       "  <thead>\n",
       "    <tr style=\"text-align: right;\">\n",
       "      <th></th>\n",
       "      <th>website_url</th>\n",
       "      <th>cleaned_website_text</th>\n",
       "      <th>Category</th>\n",
       "    </tr>\n",
       "  </thead>\n",
       "  <tbody>\n",
       "    <tr>\n",
       "      <th>955</th>\n",
       "      <td>http://xhcsv2ysizsxzoktbjxpk2ulelbsrc7c67qginj...</td>\n",
       "      <td>uncompressed market uncompressed market toggle...</td>\n",
       "      <td>6</td>\n",
       "    </tr>\n",
       "    <tr>\n",
       "      <th>916</th>\n",
       "      <td>http://2cpsvejqhz7mqeefmpkxf34gdyyynd23kwf6cze...</td>\n",
       "      <td>darknet black market darkblack airmail darknet...</td>\n",
       "      <td>6</td>\n",
       "    </tr>\n",
       "  </tbody>\n",
       "</table>\n",
       "</div>"
      ],
      "text/plain": [
       "                                           website_url  \\\n",
       "955  http://xhcsv2ysizsxzoktbjxpk2ulelbsrc7c67qginj...   \n",
       "916  http://2cpsvejqhz7mqeefmpkxf34gdyyynd23kwf6cze...   \n",
       "\n",
       "                                  cleaned_website_text  Category  \n",
       "955  uncompressed market uncompressed market toggle...         6  \n",
       "916  darknet black market darkblack airmail darknet...         6  "
      ]
     },
     "execution_count": 20,
     "metadata": {},
     "output_type": "execute_result"
    }
   ],
   "source": [
    "df.iloc[results[(results['Actual']==6) & (results['Actual']!=results['Predicted'])].index]"
   ]
  },
  {
   "cell_type": "code",
   "execution_count": 21,
   "metadata": {},
   "outputs": [],
   "source": [
    "from bs4 import BeautifulSoup\n",
    "import bs4 as bs4\n",
    "from urllib.parse import urlparse\n",
    "import requests\n",
    "import pandas as pd\n",
    "from selenium import webdriver\n",
    "from selenium.webdriver.chrome.service import Service\n",
    "from selenium.webdriver.chrome.options import Options\n",
    "from selenium.webdriver.common.by import By\n",
    "from selenium.webdriver.support.ui import WebDriverWait\n",
    "from selenium.webdriver.support import expected_conditions as EC\n",
    "import os\n",
    "\n",
    "\n",
    "class ScrapTool:   \n",
    "    def visit_url(self,website_url):\n",
    "        '''\n",
    "        Visit URL. Download the Content. Initialize the beautifulsoup object. Call parsing methods. Return Series object.\n",
    "        '''\n",
    "        #Set up Selenium webdriver\n",
    "        PATH = 'C:/Users/User01/Downloads/chromedriver_win32/chromedriver.exe'\n",
    "\n",
    "        # Set the Chrome webdriver options\n",
    "        chrome_options = Options()\n",
    "        chrome_options.add_argument(\"--headless\")\n",
    "        # Initialize the Chrome webdriver and pass the Chrome options\n",
    "        service = Service(PATH)\n",
    "        driver = webdriver.Chrome(service = service, options = chrome_options)\n",
    "\n",
    "        #Load website\n",
    "        driver.get(website_url)\n",
    "        \n",
    "        # Check if the cookie consent button is present\n",
    "        cookie_button = None\n",
    "        try:\n",
    "            cookie_button = WebDriverWait(driver, 15).until(EC.element_to_be_clickable((By.CSS_SELECTOR, \"cookie-consent-button\")))\n",
    "        except:\n",
    "            pass\n",
    "\n",
    "        # Handle cookies if the button is present\n",
    "        if cookie_button:\n",
    "            cookie_button.click()\n",
    "\n",
    "        # Extract HTML content\n",
    "        html_content = driver.page_source\n",
    "        driver.quit()\n",
    "\n",
    "        soup = BeautifulSoup(html_content,'lxml')\n",
    "        result = {\n",
    "            \"website_url\": website_url,\n",
    "            \"website_name\": self.get_website_name(website_url),\n",
    "            \"website_text\": self.get_html_title_tag(soup)+self.get_html_meta_tags(soup)+self.get_html_heading_tags(soup)+\n",
    "                                    self.get_text_content(soup)\n",
    "        }\n",
    "        \n",
    "        #Convert to Series object and return\n",
    "        return pd.Series(result)\n",
    "    \n",
    "    def get_website_name(self,website_url):\n",
    "        '''\n",
    "        Example: returns \"google\" from \"www.google.com\"\n",
    "        '''\n",
    "        return \"\".join(urlparse(website_url).netloc.split(\".\")[-2])\n",
    "    \n",
    "    def get_html_title_tag(self,soup):\n",
    "        '''Return the text content of <title> tag from a webpage'''\n",
    "        return '. '.join(soup.title.contents)\n",
    "    \n",
    "    def get_html_meta_tags(self,soup):\n",
    "        '''Returns the text content of <meta> tags related to keywords and description from a webpage'''\n",
    "        tags = soup.find_all(lambda tag: (tag.name==\"meta\") & (tag.has_attr('name') & (tag.has_attr('content'))))\n",
    "        content = [str(tag[\"content\"]) for tag in tags if tag[\"name\"] in ['keywords','description']]\n",
    "        return ' '.join(content)\n",
    "    \n",
    "    def get_html_heading_tags(self,soup):\n",
    "        '''returns the text content of heading tags. The assumption is that headings might contain relatively important text.'''\n",
    "        tags = soup.find_all([\"h1\",\"h2\",\"h3\",\"h4\",\"h5\",\"h6\"])\n",
    "        content = [\" \".join(tag.stripped_strings) for tag in tags]\n",
    "        return ' '.join(content)\n",
    "    \n",
    "    def get_text_content(self,soup):\n",
    "        '''returns the text content of the whole page with some exception to tags. See tags_to_ignore.'''\n",
    "        tags_to_ignore = ['style', 'script', 'head', 'title', 'meta', '[document]',\"h1\",\"h2\",\"h3\",\"h4\",\"h5\",\"h6\",\"noscript\"]\n",
    "        tags = soup.find_all(string=True)\n",
    "        result = []\n",
    "        for tag in tags:\n",
    "            stripped_tag = tag.strip()\n",
    "            if tag.parent.name not in tags_to_ignore\\\n",
    "                and isinstance(tag, bs4.element.Comment)==False\\\n",
    "                and not stripped_tag.isnumeric()\\\n",
    "                and len(stripped_tag)>0:\n",
    "                result.append(stripped_tag)\n",
    "        return ' '.join(result)"
   ]
  },
  {
   "cell_type": "code",
   "execution_count": 22,
   "metadata": {},
   "outputs": [],
   "source": [
    "#cleaning text and preprocessing\n",
    "def cleaning_text(text):\n",
    "    text = text.lower()\n",
    "    text = re.sub(r'http\\S+',' ',text)\n",
    "    text = re.sub(r'[^\\w\\s]',' ',text)\n",
    "    text = re.sub(r'_+',' ',text)\n",
    "    text = re.sub(r'\\d+','',text)\n",
    "    text = re.sub(r'\\s+',' ',text)   \n",
    "    text = word_tokenize(text)\n",
    "    text = [word for word in text if word not in stop_words]\n",
    "    text = [word for word in text if len(word)>2]\n",
    "    text = lemmatize_words(text)\n",
    "    text = ' '.join(text)\n",
    "    vector = tf_id_vectorizer.transform([text])\n",
    "    # vector = chi2_selector.transform(vector)\n",
    "    vector = vector.toarray()\n",
    "    return vector"
   ]
  },
  {
   "cell_type": "code",
   "execution_count": 23,
   "metadata": {},
   "outputs": [],
   "source": [
    "def website_prediction(website,model):\n",
    "    scrapTool = ScrapTool()\n",
    "    try:\n",
    "        web = dict(scrapTool.visit_url(website))\n",
    "        text = cleaning_text(web['website_text'])\n",
    "        prediction = model.predict(text)\n",
    "        print(f'The website is under the category of {le.inverse_transform(prediction)[0]}')\n",
    "    except Exception as e:\n",
    "        print(e)\n",
    "        print(\"Connection Timeout\")"
   ]
  },
  {
   "cell_type": "code",
   "execution_count": 24,
   "metadata": {},
   "outputs": [
    {
     "name": "stdout",
     "output_type": "stream",
     "text": [
      "The website is under the category of Marketplace\n"
     ]
    }
   ],
   "source": [
    "website_prediction('https://www.amazon.com',model)"
   ]
  },
  {
   "cell_type": "code",
   "execution_count": 25,
   "metadata": {},
   "outputs": [
    {
     "name": "stdout",
     "output_type": "stream",
     "text": [
      "0.9484536082474226\n"
     ]
    }
   ],
   "source": [
    "import pickle\n",
    "\n",
    "filename = './model/RootModel.sav'\n",
    "vectorizer = './model/vectorizer.pkl'\n",
    "# selector = './model/selector.pkl'\n",
    "\n",
    "pickle.dump(model, open(filename, 'wb'))\n",
    "pickle.dump(tf_id_vectorizer, open(vectorizer, 'wb'))\n",
    "# pickle.dump(chi2_selector, open(selector, 'wb'))\n",
    "\n",
    "#loading the model\n",
    "loaded_model = pickle.load(open(filename, 'rb'))\n",
    "vectorizer = pickle.load(open(vectorizer,'rb'))\n",
    "# selector = pickle.load(open(selector,'rb'))\n",
    "\n",
    "result = loaded_model.score(tf_id_test, y_test)\n",
    "print(result)"
   ]
  },
  {
   "cell_type": "code",
   "execution_count": null,
   "metadata": {},
   "outputs": [],
   "source": []
  }
 ],
 "metadata": {
  "kernelspec": {
   "display_name": "Python 3",
   "language": "python",
   "name": "python3"
  },
  "language_info": {
   "codemirror_mode": {
    "name": "ipython",
    "version": 3
   },
   "file_extension": ".py",
   "mimetype": "text/x-python",
   "name": "python",
   "nbconvert_exporter": "python",
   "pygments_lexer": "ipython3",
   "version": "3.9.6"
  },
  "orig_nbformat": 4
 },
 "nbformat": 4,
 "nbformat_minor": 2
}
