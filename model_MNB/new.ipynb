{
 "cells": [
  {
   "cell_type": "code",
   "execution_count": 1,
   "metadata": {},
   "outputs": [],
   "source": [
    "import pandas as pd\n",
    "import numpy as np\n",
    "import matplotlib.pyplot as plt\n",
    "import nltk\n",
    "import sklearn.metrics as sm\n",
    "import seaborn as sns\n",
    "import re\n",
    "import sklearn as sk\n",
    "from sklearn.model_selection import train_test_split\n",
    "from sklearn.metrics import confusion_matrix\n",
    "from sklearn.metrics import classification_report\n",
    "from sklearn.metrics import accuracy_score\n",
    "from sklearn.preprocessing import LabelEncoder"
   ]
  },
  {
   "cell_type": "code",
   "execution_count": 2,
   "metadata": {},
   "outputs": [
    {
     "data": {
      "text/html": [
       "<div>\n",
       "<style scoped>\n",
       "    .dataframe tbody tr th:only-of-type {\n",
       "        vertical-align: middle;\n",
       "    }\n",
       "\n",
       "    .dataframe tbody tr th {\n",
       "        vertical-align: top;\n",
       "    }\n",
       "\n",
       "    .dataframe thead th {\n",
       "        text-align: right;\n",
       "    }\n",
       "</style>\n",
       "<table border=\"1\" class=\"dataframe\">\n",
       "  <thead>\n",
       "    <tr style=\"text-align: right;\">\n",
       "      <th></th>\n",
       "      <th>website_url</th>\n",
       "      <th>cleaned_website_text</th>\n",
       "      <th>Category</th>\n",
       "    </tr>\n",
       "  </thead>\n",
       "  <tbody>\n",
       "    <tr>\n",
       "      <th>0</th>\n",
       "      <td>https://www.thefulltoss.com/</td>\n",
       "      <td>toss cricket blog english cricket spin irrever...</td>\n",
       "      <td>News</td>\n",
       "    </tr>\n",
       "    <tr>\n",
       "      <th>1</th>\n",
       "      <td>https://secondlife.com/</td>\n",
       "      <td>official site second life virtual world virtua...</td>\n",
       "      <td>Social Networking and Messaging</td>\n",
       "    </tr>\n",
       "    <tr>\n",
       "      <th>2</th>\n",
       "      <td>https://www.paltalk.com/</td>\n",
       "      <td>video chat paltalk large video chat room commu...</td>\n",
       "      <td>Social Networking and Messaging</td>\n",
       "    </tr>\n",
       "    <tr>\n",
       "      <th>3</th>\n",
       "      <td>https://secure.imvu.com/welcome/ftux/</td>\n",
       "      <td>imvu 3d avatar social app virtual world virtua...</td>\n",
       "      <td>Social Networking and Messaging</td>\n",
       "    </tr>\n",
       "    <tr>\n",
       "      <th>4</th>\n",
       "      <td>https://enterchatroom.com/</td>\n",
       "      <td>enter chatroom free online chat room free chat...</td>\n",
       "      <td>Social Networking and Messaging</td>\n",
       "    </tr>\n",
       "  </tbody>\n",
       "</table>\n",
       "</div>"
      ],
      "text/plain": [
       "                             website_url  \\\n",
       "0           https://www.thefulltoss.com/   \n",
       "1                https://secondlife.com/   \n",
       "2               https://www.paltalk.com/   \n",
       "3  https://secure.imvu.com/welcome/ftux/   \n",
       "4             https://enterchatroom.com/   \n",
       "\n",
       "                                cleaned_website_text  \\\n",
       "0  toss cricket blog english cricket spin irrever...   \n",
       "1  official site second life virtual world virtua...   \n",
       "2  video chat paltalk large video chat room commu...   \n",
       "3  imvu 3d avatar social app virtual world virtua...   \n",
       "4  enter chatroom free online chat room free chat...   \n",
       "\n",
       "                          Category  \n",
       "0                             News  \n",
       "1  Social Networking and Messaging  \n",
       "2  Social Networking and Messaging  \n",
       "3  Social Networking and Messaging  \n",
       "4  Social Networking and Messaging  "
      ]
     },
     "execution_count": 2,
     "metadata": {},
     "output_type": "execute_result"
    }
   ],
   "source": [
    "df = pd.read_csv('../website_classification.csv')\n",
    "df.head(5)"
   ]
  },
  {
   "cell_type": "code",
   "execution_count": 3,
   "metadata": {},
   "outputs": [
    {
     "name": "stdout",
     "output_type": "stream",
     "text": [
      "<class 'pandas.core.frame.DataFrame'>\n",
      "RangeIndex: 962 entries, 0 to 961\n",
      "Data columns (total 3 columns):\n",
      " #   Column                Non-Null Count  Dtype \n",
      "---  ------                --------------  ----- \n",
      " 0   website_url           962 non-null    object\n",
      " 1   cleaned_website_text  962 non-null    object\n",
      " 2   Category              962 non-null    object\n",
      "dtypes: object(3)\n",
      "memory usage: 22.7+ KB\n"
     ]
    }
   ],
   "source": [
    "df.info() #checking if there is any Nan or null values"
   ]
  },
  {
   "cell_type": "code",
   "execution_count": 4,
   "metadata": {},
   "outputs": [],
   "source": [
    "from nltk.stem.wordnet import WordNetLemmatizer\n",
    "lem = WordNetLemmatizer()\n",
    "\n",
    "def pos_tagger(nltk_tag):\n",
    "    if nltk_tag.startswith('J'):\n",
    "        return 'a'\n",
    "    elif nltk_tag.startswith('V'):\n",
    "        return 'v'\n",
    "    elif nltk_tag.startswith('R'):\n",
    "        return 'r'\n",
    "    else:\n",
    "        return 'n'\n",
    "    \n",
    "#Define function to lemmatize each word with its POS tag\n",
    "def lemmatize_words(text):\n",
    "    pos_tagged_text = nltk.pos_tag(text)\n",
    "    pos_tagged_text = [(word, pos_tagger(pos_tag)) for word, pos_tag in pos_tagged_text]\n",
    "    return [lem.lemmatize(word, pos_tag) for word, pos_tag in pos_tagged_text]"
   ]
  },
  {
   "cell_type": "code",
   "execution_count": 5,
   "metadata": {},
   "outputs": [],
   "source": [
    "from nltk.tokenize import word_tokenize\n",
    "from nltk.corpus import stopwords\n",
    "\n",
    "stop_words = stopwords.words('english')\n",
    "\n",
    "df['cleaned_website_text'] = df['cleaned_website_text'].apply(lambda x: x.lower())\n",
    "df['cleaned_website_text'] = df['cleaned_website_text'].apply(lambda x: re.sub(r'[^\\w\\s]','',x))\n",
    "df['cleaned_website_text'] = df['cleaned_website_text'].apply(lambda x: re.sub(r'\\d+','',x))\n",
    "df['cleaned_website_text'] = df['cleaned_website_text'].apply(lambda x: re.sub(r'\\s+',' ',x))\n",
    "df['cleaned_website_text'] = df['cleaned_website_text'].apply(lambda x: word_tokenize(x))\n",
    "df['cleaned_website_text'] = df['cleaned_website_text'].apply(lambda x: [word for word in x if word not in stop_words])\n",
    "df['cleaned_website_text'] = df['cleaned_website_text'].apply(lambda x: [word for word in x if len(word)>2])\n",
    "df['cleaned_website_text'] = df['cleaned_website_text'].apply(lambda x: lemmatize_words(x))\n",
    "df['cleaned_website_text'] = df['cleaned_website_text'].apply(lambda x: ' '.join(x))"
   ]
  },
  {
   "cell_type": "code",
   "execution_count": 6,
   "metadata": {},
   "outputs": [],
   "source": [
    "from sklearn.preprocessing import LabelEncoder\n",
    "\n",
    "le = LabelEncoder()\n",
    "df['Category'] = le.fit_transform(df['Category'])"
   ]
  },
  {
   "cell_type": "code",
   "execution_count": 7,
   "metadata": {},
   "outputs": [],
   "source": [
    "from sklearn.model_selection import train_test_split\n",
    "X_train,X_test,y_train,y_test = train_test_split(df['cleaned_website_text'],df['Category'],test_size=0.2,random_state=42)"
   ]
  },
  {
   "cell_type": "code",
   "execution_count": 8,
   "metadata": {},
   "outputs": [],
   "source": [
    "from sklearn.feature_extraction.text import TfidfVectorizer\n",
    "\n",
    "tf_id_vectorizer = TfidfVectorizer(analyzer='word',smooth_idf=True,max_features=5000)\n",
    "tf_id_train = tf_id_vectorizer.fit_transform(X_train)\n",
    "tf_id_test = tf_id_vectorizer.transform(X_test)"
   ]
  },
  {
   "cell_type": "code",
   "execution_count": 23,
   "metadata": {},
   "outputs": [
    {
     "name": "stdout",
     "output_type": "stream",
     "text": [
      "Evaluating: MNB\n",
      "Best parameters: {'feature_selection__k': 4000, 'mnb__alpha': 0.1}\n",
      "Accuracy: 0.927461139896373\n",
      "Precision: 0.9058048693251166\n",
      "Recall: 0.927461139896373\n",
      "F1 score: 0.9135868587313664\n",
      "----------------------------------\n",
      "Evaluating: SVM\n",
      "Best parameters: {'feature_selection__k': 5000, 'svm__C': 10, 'svm__kernel': 'linear'}\n",
      "Accuracy: 0.9378238341968912\n",
      "Precision: 0.9394070236039147\n",
      "Recall: 0.9378238341968912\n",
      "F1 score: 0.935848039839279\n",
      "----------------------------------\n"
     ]
    }
   ],
   "source": [
    "from sklearn.model_selection import GridSearchCV\n",
    "from sklearn.pipeline import Pipeline\n",
    "from sklearn.feature_extraction.text import TfidfVectorizer\n",
    "from sklearn.feature_selection import SelectKBest, chi2\n",
    "from sklearn.svm import SVC\n",
    "from sklearn.naive_bayes import MultinomialNB\n",
    "from sklearn.metrics import accuracy_score, precision_score, recall_score, f1_score\n",
    "\n",
    "# Assuming you have your training data (X_train) and corresponding labels (y_train)\n",
    "\n",
    "# Define the models and their respective hyperparameters to try during grid search\n",
    "models = {\n",
    "    'MNB': {\n",
    "        'model': MultinomialNB(),\n",
    "        'params': {\n",
    "            'mnb__alpha': [0.1, 0.5, 1.0, 1.5, 2.0]\n",
    "        }\n",
    "    },\n",
    "    'SVM': {\n",
    "        'model': SVC(),\n",
    "        'params': {\n",
    "            'svm__C': [1, 10],\n",
    "            'svm__kernel': ['linear', 'rbf']\n",
    "        }\n",
    "    },\n",
    "}\n",
    "\n",
    "# Perform grid search and cross-validation for each model\n",
    "for model_name, model_data in models.items():\n",
    "    print(\"Evaluating:\", model_name)\n",
    "    \n",
    "    # Create a pipeline with a TF-IDF vectorizer and the current model\n",
    "    pipeline = Pipeline([\n",
    "        (\"feature_selection\", SelectKBest(score_func=chi2)),\n",
    "        (model_name.lower(), model_data['model'])\n",
    "    ])\n",
    "    \n",
    "    # Define the hyperparameters for the current model\n",
    "    parameters = {\n",
    "        'feature_selection__k':[1000, 2000, 3000, 4000, 5000],\n",
    "        **model_data['params']\n",
    "    }\n",
    "    \n",
    "    # Perform grid search with 5-fold cross-validation\n",
    "    grid_search = GridSearchCV(pipeline, parameters, cv=5, scoring='accuracy')\n",
    "    grid_search.fit(tf_id_train, y_train)\n",
    "    \n",
    "    # Get the best model and its corresponding hyperparameters\n",
    "    best_model = grid_search.best_estimator_\n",
    "    best_params = grid_search.best_params_\n",
    "    \n",
    "    # Make predictions on the test set\n",
    "    y_pred = best_model.predict(tf_id_test)\n",
    "    \n",
    "    # Calculate and print evaluation metrics\n",
    "    accuracy = accuracy_score(y_test, y_pred)\n",
    "    precision = precision_score(y_test, y_pred, average='weighted',zero_division=0)\n",
    "    recall = recall_score(y_test, y_pred, average='weighted',zero_division=0)\n",
    "    f1 = f1_score(y_test, y_pred, average='weighted',zero_division=0)\n",
    "    \n",
    "    print(\"Best parameters:\", best_params)\n",
    "    print(\"Accuracy:\", accuracy)\n",
    "    print(\"Precision:\", precision)\n",
    "    print(\"Recall:\", recall)\n",
    "    print(\"F1 score:\", f1)\n",
    "    print(\"----------------------------------\")"
   ]
  },
  {
   "cell_type": "code",
   "execution_count": 24,
   "metadata": {},
   "outputs": [],
   "source": [
    "from sklearn.feature_selection import chi2\n",
    "k = 5000\n",
    "chi2_selector = SelectKBest(score_func=chi2, k=k)\n",
    "\n",
    "X_train_selected = chi2_selector.fit_transform(tf_id_train, y_train)\n",
    "X_test_selected = chi2_selector.transform(tf_id_test)"
   ]
  },
  {
   "cell_type": "code",
   "execution_count": 25,
   "metadata": {},
   "outputs": [
    {
     "data": {
      "text/plain": [
       "SVC(C=10, kernel='linear')"
      ]
     },
     "execution_count": 25,
     "metadata": {},
     "output_type": "execute_result"
    }
   ],
   "source": [
    "# model = MultinomialNB(alpha=0.1)\n",
    "model = SVC(C=10, kernel='linear')\n",
    "model.fit(X_train_selected,y_train)"
   ]
  },
  {
   "cell_type": "code",
   "execution_count": 26,
   "metadata": {},
   "outputs": [
    {
     "name": "stdout",
     "output_type": "stream",
     "text": [
      "The accuracy of train model is 0.9986996098829649\n",
      "The accuracy of test model is 0.9378238341968912\n"
     ]
    }
   ],
   "source": [
    "import sklearn.metrics as sm\n",
    "\n",
    "y_pred = model.predict(X_test_selected)\n",
    "print(f'The accuracy of train model is {sm.accuracy_score(y_train,model.predict(X_train_selected))}')\n",
    "print(f'The accuracy of test model is {sm.accuracy_score(y_test,y_pred)}')"
   ]
  },
  {
   "cell_type": "code",
   "execution_count": 27,
   "metadata": {},
   "outputs": [
    {
     "name": "stdout",
     "output_type": "stream",
     "text": [
      "              precision    recall  f1-score   support\n",
      "\n",
      "           0       1.00      1.00      1.00         8\n",
      "           1       0.92      0.92      0.92        24\n",
      "           2       1.00      0.90      0.95        72\n",
      "           3       0.91      1.00      0.95        21\n",
      "           4       0.89      1.00      0.94         8\n",
      "           5       0.60      1.00      0.75         3\n",
      "           6       1.00      1.00      1.00        14\n",
      "           7       1.00      1.00      1.00        12\n",
      "           8       1.00      1.00      1.00        15\n",
      "           9       0.72      0.81      0.76        16\n",
      "\n",
      "    accuracy                           0.94       193\n",
      "   macro avg       0.90      0.96      0.93       193\n",
      "weighted avg       0.95      0.94      0.94       193\n",
      "\n"
     ]
    },
    {
     "data": {
      "text/plain": [
       "<Axes: >"
      ]
     },
     "execution_count": 27,
     "metadata": {},
     "output_type": "execute_result"
    },
    {
     "data": {
      "image/png": "[encoded data removed]",
      "text/plain": [
       "<Figure size 720x432 with 2 Axes>"
      ]
     },
     "metadata": {
      "needs_background": "light"
     },
     "output_type": "display_data"
    }
   ],
   "source": [
    "import seaborn as sns\n",
    "from sklearn.metrics import confusion_matrix,classification_report\n",
    "\n",
    "plt.figure(figsize=(10,6))\n",
    "predictions = model.predict(X_test_selected)\n",
    "print(classification_report(predictions,y_test))\n",
    "sns.heatmap(confusion_matrix(predictions,y_test),cmap='coolwarm',annot=True)"
   ]
  },
  {
   "cell_type": "code",
   "execution_count": 21,
   "metadata": {},
   "outputs": [
    {
     "data": {
      "text/plain": [
       "960    cardable site card asylumcardable site page pa...\n",
       "Name: cleaned_website_text, dtype: object"
      ]
     },
     "execution_count": 21,
     "metadata": {},
     "output_type": "execute_result"
    }
   ],
   "source": [
    "pd.set_option('display.max_rows', None)\n",
    "predictions = model.predict(X_test_selected)\n",
    "results = pd.DataFrame({'Cleaned Text':X_test_selected,'Actual':y_test,'Predicted':predictions})\n",
    "df.iloc[results[(results['Actual']==4) & (results['Actual']!=results['Predicted'])].index][\"cleaned_website_text\"]"
   ]
  },
  {
   "cell_type": "code",
   "execution_count": 32,
   "metadata": {},
   "outputs": [],
   "source": [
    "from bs4 import BeautifulSoup\n",
    "import bs4 as bs4\n",
    "from urllib.parse import urlparse\n",
    "import requests\n",
    "import pandas as pd\n",
    "from selenium import webdriver\n",
    "from selenium.webdriver.chrome.service import Service\n",
    "from selenium.webdriver.chrome.options import Options\n",
    "from selenium.webdriver.common.by import By\n",
    "from selenium.webdriver.support.ui import WebDriverWait\n",
    "from selenium.webdriver.support import expected_conditions as EC\n",
    "import os\n",
    "\n",
    "\n",
    "class ScrapTool:   \n",
    "    def visit_url(self,website_url):\n",
    "        '''\n",
    "        Visit URL. Download the Content. Initialize the beautifulsoup object. Call parsing methods. Return Series object.\n",
    "        '''\n",
    "        #Set up Selenium webdriver\n",
    "        PATH = 'C:/Users/shrey/Downloads/chromedriver_win32 (1)/chromedriver.exe'\n",
    "\n",
    "        # Set the Chrome webdriver options\n",
    "        chrome_options = Options()\n",
    "        chrome_options.add_argument(\"--headless\")\n",
    "        # Initialize the Chrome webdriver and pass the Chrome options\n",
    "        service = Service(PATH)\n",
    "        driver = webdriver.Chrome(service = service, options = chrome_options)\n",
    "\n",
    "        #Load website\n",
    "        driver.get(website_url)\n",
    "        \n",
    "        # Check if the cookie consent button is present\n",
    "        cookie_button = None\n",
    "        try:\n",
    "            cookie_button = WebDriverWait(driver, 15).until(EC.element_to_be_clickable((By.CSS_SELECTOR, \"cookie-consent-button\")))\n",
    "        except:\n",
    "            pass\n",
    "\n",
    "        # Handle cookies if the button is present\n",
    "        if cookie_button:\n",
    "            cookie_button.click()\n",
    "\n",
    "        # Extract HTML content\n",
    "        html_content = driver.page_source\n",
    "        driver.quit()\n",
    "\n",
    "        soup = BeautifulSoup(html_content,'lxml')\n",
    "        result = {\n",
    "            \"website_url\": website_url,\n",
    "            \"website_name\": self.get_website_name(website_url),\n",
    "            \"website_text\": self.get_html_title_tag(soup)+self.get_html_meta_tags(soup)+self.get_html_heading_tags(soup)+\n",
    "                                    self.get_text_content(soup)\n",
    "        }\n",
    "        \n",
    "        #Convert to Series object and return\n",
    "        return pd.Series(result)\n",
    "    \n",
    "    def get_website_name(self,website_url):\n",
    "        '''\n",
    "        Example: returns \"google\" from \"www.google.com\"\n",
    "        '''\n",
    "        return \"\".join(urlparse(website_url).netloc.split(\".\")[-2])\n",
    "    \n",
    "    def get_html_title_tag(self,soup):\n",
    "        '''Return the text content of <title> tag from a webpage'''\n",
    "        return '. '.join(soup.title.contents)\n",
    "    \n",
    "    def get_html_meta_tags(self,soup):\n",
    "        '''Returns the text content of <meta> tags related to keywords and description from a webpage'''\n",
    "        tags = soup.find_all(lambda tag: (tag.name==\"meta\") & (tag.has_attr('name') & (tag.has_attr('content'))))\n",
    "        content = [str(tag[\"content\"]) for tag in tags if tag[\"name\"] in ['keywords','description']]\n",
    "        return ' '.join(content)\n",
    "    \n",
    "    def get_html_heading_tags(self,soup):\n",
    "        '''returns the text content of heading tags. The assumption is that headings might contain relatively important text.'''\n",
    "        tags = soup.find_all([\"h1\",\"h2\",\"h3\",\"h4\",\"h5\",\"h6\"])\n",
    "        content = [\" \".join(tag.stripped_strings) for tag in tags]\n",
    "        return ' '.join(content)\n",
    "    \n",
    "    def get_text_content(self,soup):\n",
    "        '''returns the text content of the whole page with some exception to tags. See tags_to_ignore.'''\n",
    "        tags_to_ignore = ['style', 'script', 'head', 'title', 'meta', '[document]',\"h1\",\"h2\",\"h3\",\"h4\",\"h5\",\"h6\",\"noscript\"]\n",
    "        tags = soup.find_all(string=True)\n",
    "        result = []\n",
    "        for tag in tags:\n",
    "            stripped_tag = tag.strip()\n",
    "            if tag.parent.name not in tags_to_ignore\\\n",
    "                and isinstance(tag, bs4.element.Comment)==False\\\n",
    "                and not stripped_tag.isnumeric()\\\n",
    "                and len(stripped_tag)>0:\n",
    "                result.append(stripped_tag)\n",
    "        return ' '.join(result)"
   ]
  },
  {
   "cell_type": "code",
   "execution_count": 29,
   "metadata": {},
   "outputs": [],
   "source": [
    "#cleaning text and preprocessing\n",
    "def cleaning_text(text):\n",
    "    text = text.lower()\n",
    "    text = re.sub(r'[^\\w\\s]',' ',text)\n",
    "    text = re.sub(r'\\d+','',text)\n",
    "    text = re.sub(r'\\s+',' ',text)   \n",
    "    text = word_tokenize(text)\n",
    "    text = [word for word in text if word not in stop_words]\n",
    "    text = [word for word in text if len(word)>2]\n",
    "    text = lemmatize_words(text)\n",
    "    text = ' '.join(text)\n",
    "    vector = tf_id_vectorizer.transform([text])\n",
    "    vector = chi2_selector.transform(vector)\n",
    "    vector = vector.toarray()\n",
    "    return vector"
   ]
  },
  {
   "cell_type": "code",
   "execution_count": 30,
   "metadata": {},
   "outputs": [],
   "source": [
    "def website_prediction(website,model):\n",
    "    scrapTool = ScrapTool()\n",
    "    try:\n",
    "        web = dict(scrapTool.visit_url(website))\n",
    "        text = cleaning_text(web['website_text'])\n",
    "        prediction = model.predict(text)\n",
    "        print(f'The website is under the category of {le.inverse_transform(prediction)[0]}')\n",
    "    except Exception as e:\n",
    "        print(e)\n",
    "        print(\"Connection Timeout\")"
   ]
  },
  {
   "cell_type": "code",
   "execution_count": 31,
   "metadata": {},
   "outputs": [
    {
     "name": "stdout",
     "output_type": "stream",
     "text": [
      "The website is under the category of Financial Crime\n"
     ]
    },
    {
     "name": "stderr",
     "output_type": "stream",
     "text": [
      "C:\\Users\\shrey\\AppData\\Local\\Temp/ipykernel_33628/1580991065.py:84: DeprecationWarning: The 'text' argument to find()-type methods is deprecated. Use 'string' instead.\n",
      "  tags = soup.find_all(text=True)\n"
     ]
    }
   ],
   "source": [
    "website_prediction('https://altenens.is/',model)"
   ]
  },
  {
   "cell_type": "code",
   "execution_count": null,
   "metadata": {},
   "outputs": [],
   "source": [
    "import pickle\n",
    "\n",
    "filename = './model/RootModel.sav'\n",
    "vectorizer = './model/vectorizer.pkl'\n",
    "selector = './model/selector.pkl'\n",
    "\n",
    "pickle.dump(model, open(filename, 'wb'))\n",
    "pickle.dump(tf_id_vectorizer, open(vectorizer, 'wb'))\n",
    "pickle.dump(chi2_selector, open(selector, 'wb'))\n",
    "\n",
    "#loading the model\n",
    "loaded_model = pickle.load(open(filename, 'rb'))\n",
    "vectorizer = pickle.load(open(vectorizer,'rb'))\n",
    "selector = pickle.load(open(selector,'rb'))\n",
    "\n",
    "result = loaded_model.score(X_test_selected, y_test)\n",
    "print(result)"
   ]
  }
 ],
 "metadata": {
  "kernelspec": {
   "display_name": "Python 3",
   "language": "python",
   "name": "python3"
  },
  "language_info": {
   "codemirror_mode": {
    "name": "ipython",
    "version": 3
   },
   "file_extension": ".py",
   "mimetype": "text/x-python",
   "name": "python",
   "nbconvert_exporter": "python",
   "pygments_lexer": "ipython3",
   "version": "3.9.7"
  },
  "orig_nbformat": 4
 },
 "nbformat": 4,
 "nbformat_minor": 2
}
